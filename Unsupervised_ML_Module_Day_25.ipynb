{
  "nbformat": 4,
  "nbformat_minor": 0,
  "metadata": {
    "colab": {
      "name": "Unsupervised ML Module - Day 25.ipynb",
      "provenance": [],
      "collapsed_sections": [
        "3g59208TUX61",
        "Ot8Z1y02XHco",
        "bMvl8d5wvZe1",
        "ebDhsyCBEQQI",
        "G8hdBuBa4xCI",
        "XOqQeUHJ4xCU",
        "MQsmAw3559B9",
        "67pAQ4JjOkoP",
        "pMQRDPvsbyAb"
      ],
      "include_colab_link": true
    },
    "kernelspec": {
      "name": "python3",
      "display_name": "Python 3"
    }
  },
  "cells": [
    {
      "cell_type": "markdown",
      "metadata": {
        "id": "view-in-github",
        "colab_type": "text"
      },
      "source": [
        "<a href=\"https://colab.research.google.com/github/HafidzNDP/Python-Basic/blob/main/Unsupervised_ML_Module_Day_25.ipynb\" target=\"_parent\"><img src=\"https://colab.research.google.com/assets/colab-badge.svg\" alt=\"Open In Colab\"/></a>"
      ]
    },
    {
      "cell_type": "markdown",
      "metadata": {
        "id": "3g59208TUX61"
      },
      "source": [
        "# **Python Unsupervised ML Notebook**\n",
        "this notebook is for understanding the python unsupervised ML\n",
        "\n",
        "last update: 2021-06-17\n",
        "\n",
        "by: Hafidz NDP"
      ]
    },
    {
      "cell_type": "markdown",
      "metadata": {
        "id": "Ot8Z1y02XHco"
      },
      "source": [
        "## What You Need to Do\n",
        "1. Open this gdrive folder:  https://drive.google.com/drive/folders/1sjyZNq_iFOCGmA0BWsg823zW5KyEOztd?usp=sharing\n",
        "2. Create folder in there with format: {your_name}_day25\n",
        "3. Create Google Colab file in that folder\n",
        "\n"
      ]
    },
    {
      "cell_type": "markdown",
      "metadata": {
        "id": "bMvl8d5wvZe1"
      },
      "source": [
        "## *Content*\n",
        "- PCA\n",
        "- K-Means Clustering"
      ]
    },
    {
      "cell_type": "markdown",
      "metadata": {
        "id": "ebDhsyCBEQQI"
      },
      "source": [
        "# **Unsupervised  Quick Introduction**\n",
        "**Unsupervised Learning** is a machine learning technique in which the users do not need to supervise the model. Instead, it allows the model to work on its own to discover patterns and information that was previously undetected."
      ]
    },
    {
      "cell_type": "markdown",
      "metadata": {
        "id": "Ea8galVZ3EHS"
      },
      "source": [
        "![](https://drive.google.com/uc?export=view&id=1BWd4oN2HfQIQh2j5pD560xgLwfMGK0gU)"
      ]
    },
    {
      "cell_type": "code",
      "metadata": {
        "id": "ExJEeAGZvIxl"
      },
      "source": [
        "# import EDA library\n",
        "import pandas as pd\n",
        "import numpy as np\n",
        "import seaborn as sns"
      ],
      "execution_count": null,
      "outputs": []
    },
    {
      "cell_type": "code",
      "metadata": {
        "id": "4A1y8UZH5k5h"
      },
      "source": [
        "# import sklearn library\n",
        "import sklearn.datasets as datasets\n",
        "import sklearn.preprocessing as preprocessing\n",
        "import sklearn.decomposition as decomposition\n",
        "import sklearn.cluster as cluster"
      ],
      "execution_count": null,
      "outputs": []
    },
    {
      "cell_type": "code",
      "metadata": {
        "id": "xx5L0kZiRFyL",
        "colab": {
          "base_uri": "https://localhost:8080/"
        },
        "outputId": "619c099d-5fcb-4b8b-ad45-7d6991fca996"
      },
      "source": [
        "# install library\n",
        "!pip install scikit-plot"
      ],
      "execution_count": null,
      "outputs": [
        {
          "output_type": "stream",
          "text": [
            "Collecting scikit-plot\n",
            "  Downloading scikit_plot-0.3.7-py3-none-any.whl (33 kB)\n",
            "Requirement already satisfied: joblib>=0.10 in /usr/local/lib/python3.7/dist-packages (from scikit-plot) (1.0.1)\n",
            "Requirement already satisfied: scipy>=0.9 in /usr/local/lib/python3.7/dist-packages (from scikit-plot) (1.4.1)\n",
            "Requirement already satisfied: scikit-learn>=0.18 in /usr/local/lib/python3.7/dist-packages (from scikit-plot) (0.22.2.post1)\n",
            "Requirement already satisfied: matplotlib>=1.4.0 in /usr/local/lib/python3.7/dist-packages (from scikit-plot) (3.2.2)\n",
            "Requirement already satisfied: cycler>=0.10 in /usr/local/lib/python3.7/dist-packages (from matplotlib>=1.4.0->scikit-plot) (0.10.0)\n",
            "Requirement already satisfied: pyparsing!=2.0.4,!=2.1.2,!=2.1.6,>=2.0.1 in /usr/local/lib/python3.7/dist-packages (from matplotlib>=1.4.0->scikit-plot) (2.4.7)\n",
            "Requirement already satisfied: numpy>=1.11 in /usr/local/lib/python3.7/dist-packages (from matplotlib>=1.4.0->scikit-plot) (1.19.5)\n",
            "Requirement already satisfied: python-dateutil>=2.1 in /usr/local/lib/python3.7/dist-packages (from matplotlib>=1.4.0->scikit-plot) (2.8.1)\n",
            "Requirement already satisfied: kiwisolver>=1.0.1 in /usr/local/lib/python3.7/dist-packages (from matplotlib>=1.4.0->scikit-plot) (1.3.1)\n",
            "Requirement already satisfied: six in /usr/local/lib/python3.7/dist-packages (from cycler>=0.10->matplotlib>=1.4.0->scikit-plot) (1.15.0)\n",
            "Installing collected packages: scikit-plot\n",
            "Successfully installed scikit-plot-0.3.7\n"
          ],
          "name": "stdout"
        }
      ]
    },
    {
      "cell_type": "code",
      "metadata": {
        "id": "E2m_-NlII6OS"
      },
      "source": [
        "# import graph library\n",
        "import matplotlib.pyplot as plt\n",
        "import scikitplot as skplt"
      ],
      "execution_count": null,
      "outputs": []
    },
    {
      "cell_type": "markdown",
      "metadata": {
        "id": "G8hdBuBa4xCI"
      },
      "source": [
        "# **Reading the data**\n",
        "For this unsupervised learning, we will use the same dataset with classification: **breast cancer data**"
      ]
    },
    {
      "cell_type": "code",
      "metadata": {
        "id": "VkFPEG1A4xCO"
      },
      "source": [
        "# see the breast cancer data\n",
        "breast_cancer_raw_data = datasets.load_breast_cancer()"
      ],
      "execution_count": null,
      "outputs": []
    },
    {
      "cell_type": "code",
      "metadata": {
        "id": "y-UbHn6s4xCP",
        "colab": {
          "base_uri": "https://localhost:8080/"
        },
        "outputId": "b95ac05c-6cf9-4a04-d133-7cbfbe6e2e8c"
      },
      "source": [
        "print(breast_cancer_raw_data)"
      ],
      "execution_count": null,
      "outputs": [
        {
          "output_type": "stream",
          "text": [
            "{'data': array([[1.799e+01, 1.038e+01, 1.228e+02, ..., 2.654e-01, 4.601e-01,\n",
            "        1.189e-01],\n",
            "       [2.057e+01, 1.777e+01, 1.329e+02, ..., 1.860e-01, 2.750e-01,\n",
            "        8.902e-02],\n",
            "       [1.969e+01, 2.125e+01, 1.300e+02, ..., 2.430e-01, 3.613e-01,\n",
            "        8.758e-02],\n",
            "       ...,\n",
            "       [1.660e+01, 2.808e+01, 1.083e+02, ..., 1.418e-01, 2.218e-01,\n",
            "        7.820e-02],\n",
            "       [2.060e+01, 2.933e+01, 1.401e+02, ..., 2.650e-01, 4.087e-01,\n",
            "        1.240e-01],\n",
            "       [7.760e+00, 2.454e+01, 4.792e+01, ..., 0.000e+00, 2.871e-01,\n",
            "        7.039e-02]]), 'target': array([0, 0, 0, 0, 0, 0, 0, 0, 0, 0, 0, 0, 0, 0, 0, 0, 0, 0, 0, 1, 1, 1,\n",
            "       0, 0, 0, 0, 0, 0, 0, 0, 0, 0, 0, 0, 0, 0, 0, 1, 0, 0, 0, 0, 0, 0,\n",
            "       0, 0, 1, 0, 1, 1, 1, 1, 1, 0, 0, 1, 0, 0, 1, 1, 1, 1, 0, 1, 0, 0,\n",
            "       1, 1, 1, 1, 0, 1, 0, 0, 1, 0, 1, 0, 0, 1, 1, 1, 0, 0, 1, 0, 0, 0,\n",
            "       1, 1, 1, 0, 1, 1, 0, 0, 1, 1, 1, 0, 0, 1, 1, 1, 1, 0, 1, 1, 0, 1,\n",
            "       1, 1, 1, 1, 1, 1, 1, 0, 0, 0, 1, 0, 0, 1, 1, 1, 0, 0, 1, 0, 1, 0,\n",
            "       0, 1, 0, 0, 1, 1, 0, 1, 1, 0, 1, 1, 1, 1, 0, 1, 1, 1, 1, 1, 1, 1,\n",
            "       1, 1, 0, 1, 1, 1, 1, 0, 0, 1, 0, 1, 1, 0, 0, 1, 1, 0, 0, 1, 1, 1,\n",
            "       1, 0, 1, 1, 0, 0, 0, 1, 0, 1, 0, 1, 1, 1, 0, 1, 1, 0, 0, 1, 0, 0,\n",
            "       0, 0, 1, 0, 0, 0, 1, 0, 1, 0, 1, 1, 0, 1, 0, 0, 0, 0, 1, 1, 0, 0,\n",
            "       1, 1, 1, 0, 1, 1, 1, 1, 1, 0, 0, 1, 1, 0, 1, 1, 0, 0, 1, 0, 1, 1,\n",
            "       1, 1, 0, 1, 1, 1, 1, 1, 0, 1, 0, 0, 0, 0, 0, 0, 0, 0, 0, 0, 0, 0,\n",
            "       0, 0, 1, 1, 1, 1, 1, 1, 0, 1, 0, 1, 1, 0, 1, 1, 0, 1, 0, 0, 1, 1,\n",
            "       1, 1, 1, 1, 1, 1, 1, 1, 1, 1, 1, 0, 1, 1, 0, 1, 0, 1, 1, 1, 1, 1,\n",
            "       1, 1, 1, 1, 1, 1, 1, 1, 1, 0, 1, 1, 1, 0, 1, 0, 1, 1, 1, 1, 0, 0,\n",
            "       0, 1, 1, 1, 1, 0, 1, 0, 1, 0, 1, 1, 1, 0, 1, 1, 1, 1, 1, 1, 1, 0,\n",
            "       0, 0, 1, 1, 1, 1, 1, 1, 1, 1, 1, 1, 1, 0, 0, 1, 0, 0, 0, 1, 0, 0,\n",
            "       1, 1, 1, 1, 1, 0, 1, 1, 1, 1, 1, 0, 1, 1, 1, 0, 1, 1, 0, 0, 1, 1,\n",
            "       1, 1, 1, 1, 0, 1, 1, 1, 1, 1, 1, 1, 0, 1, 1, 1, 1, 1, 0, 1, 1, 0,\n",
            "       1, 1, 1, 1, 1, 1, 1, 1, 1, 1, 1, 1, 0, 1, 0, 0, 1, 0, 1, 1, 1, 1,\n",
            "       1, 0, 1, 1, 0, 1, 0, 1, 1, 0, 1, 0, 1, 1, 1, 1, 1, 1, 1, 1, 0, 0,\n",
            "       1, 1, 1, 1, 1, 1, 0, 1, 1, 1, 1, 1, 1, 1, 1, 1, 1, 0, 1, 1, 1, 1,\n",
            "       1, 1, 1, 0, 1, 0, 1, 1, 0, 1, 1, 1, 1, 1, 0, 0, 1, 0, 1, 0, 1, 1,\n",
            "       1, 1, 1, 0, 1, 1, 0, 1, 0, 1, 0, 0, 1, 1, 1, 0, 1, 1, 1, 1, 1, 1,\n",
            "       1, 1, 1, 1, 1, 0, 1, 0, 0, 1, 1, 1, 1, 1, 1, 1, 1, 1, 1, 1, 1, 1,\n",
            "       1, 1, 1, 1, 1, 1, 1, 1, 1, 1, 1, 1, 0, 0, 0, 0, 0, 0, 1]), 'target_names': array(['malignant', 'benign'], dtype='<U9'), 'DESCR': '.. _breast_cancer_dataset:\\n\\nBreast cancer wisconsin (diagnostic) dataset\\n--------------------------------------------\\n\\n**Data Set Characteristics:**\\n\\n    :Number of Instances: 569\\n\\n    :Number of Attributes: 30 numeric, predictive attributes and the class\\n\\n    :Attribute Information:\\n        - radius (mean of distances from center to points on the perimeter)\\n        - texture (standard deviation of gray-scale values)\\n        - perimeter\\n        - area\\n        - smoothness (local variation in radius lengths)\\n        - compactness (perimeter^2 / area - 1.0)\\n        - concavity (severity of concave portions of the contour)\\n        - concave points (number of concave portions of the contour)\\n        - symmetry \\n        - fractal dimension (\"coastline approximation\" - 1)\\n\\n        The mean, standard error, and \"worst\" or largest (mean of the three\\n        largest values) of these features were computed for each image,\\n        resulting in 30 features.  For instance, field 3 is Mean Radius, field\\n        13 is Radius SE, field 23 is Worst Radius.\\n\\n        - class:\\n                - WDBC-Malignant\\n                - WDBC-Benign\\n\\n    :Summary Statistics:\\n\\n    ===================================== ====== ======\\n                                           Min    Max\\n    ===================================== ====== ======\\n    radius (mean):                        6.981  28.11\\n    texture (mean):                       9.71   39.28\\n    perimeter (mean):                     43.79  188.5\\n    area (mean):                          143.5  2501.0\\n    smoothness (mean):                    0.053  0.163\\n    compactness (mean):                   0.019  0.345\\n    concavity (mean):                     0.0    0.427\\n    concave points (mean):                0.0    0.201\\n    symmetry (mean):                      0.106  0.304\\n    fractal dimension (mean):             0.05   0.097\\n    radius (standard error):              0.112  2.873\\n    texture (standard error):             0.36   4.885\\n    perimeter (standard error):           0.757  21.98\\n    area (standard error):                6.802  542.2\\n    smoothness (standard error):          0.002  0.031\\n    compactness (standard error):         0.002  0.135\\n    concavity (standard error):           0.0    0.396\\n    concave points (standard error):      0.0    0.053\\n    symmetry (standard error):            0.008  0.079\\n    fractal dimension (standard error):   0.001  0.03\\n    radius (worst):                       7.93   36.04\\n    texture (worst):                      12.02  49.54\\n    perimeter (worst):                    50.41  251.2\\n    area (worst):                         185.2  4254.0\\n    smoothness (worst):                   0.071  0.223\\n    compactness (worst):                  0.027  1.058\\n    concavity (worst):                    0.0    1.252\\n    concave points (worst):               0.0    0.291\\n    symmetry (worst):                     0.156  0.664\\n    fractal dimension (worst):            0.055  0.208\\n    ===================================== ====== ======\\n\\n    :Missing Attribute Values: None\\n\\n    :Class Distribution: 212 - Malignant, 357 - Benign\\n\\n    :Creator:  Dr. William H. Wolberg, W. Nick Street, Olvi L. Mangasarian\\n\\n    :Donor: Nick Street\\n\\n    :Date: November, 1995\\n\\nThis is a copy of UCI ML Breast Cancer Wisconsin (Diagnostic) datasets.\\nhttps://goo.gl/U2Uwz2\\n\\nFeatures are computed from a digitized image of a fine needle\\naspirate (FNA) of a breast mass.  They describe\\ncharacteristics of the cell nuclei present in the image.\\n\\nSeparating plane described above was obtained using\\nMultisurface Method-Tree (MSM-T) [K. P. Bennett, \"Decision Tree\\nConstruction Via Linear Programming.\" Proceedings of the 4th\\nMidwest Artificial Intelligence and Cognitive Science Society,\\npp. 97-101, 1992], a classification method which uses linear\\nprogramming to construct a decision tree.  Relevant features\\nwere selected using an exhaustive search in the space of 1-4\\nfeatures and 1-3 separating planes.\\n\\nThe actual linear program used to obtain the separating plane\\nin the 3-dimensional space is that described in:\\n[K. P. Bennett and O. L. Mangasarian: \"Robust Linear\\nProgramming Discrimination of Two Linearly Inseparable Sets\",\\nOptimization Methods and Software 1, 1992, 23-34].\\n\\nThis database is also available through the UW CS ftp server:\\n\\nftp ftp.cs.wisc.edu\\ncd math-prog/cpo-dataset/machine-learn/WDBC/\\n\\n.. topic:: References\\n\\n   - W.N. Street, W.H. Wolberg and O.L. Mangasarian. Nuclear feature extraction \\n     for breast tumor diagnosis. IS&T/SPIE 1993 International Symposium on \\n     Electronic Imaging: Science and Technology, volume 1905, pages 861-870,\\n     San Jose, CA, 1993.\\n   - O.L. Mangasarian, W.N. Street and W.H. Wolberg. Breast cancer diagnosis and \\n     prognosis via linear programming. Operations Research, 43(4), pages 570-577, \\n     July-August 1995.\\n   - W.H. Wolberg, W.N. Street, and O.L. Mangasarian. Machine learning techniques\\n     to diagnose breast cancer from fine-needle aspirates. Cancer Letters 77 (1994) \\n     163-171.', 'feature_names': array(['mean radius', 'mean texture', 'mean perimeter', 'mean area',\n",
            "       'mean smoothness', 'mean compactness', 'mean concavity',\n",
            "       'mean concave points', 'mean symmetry', 'mean fractal dimension',\n",
            "       'radius error', 'texture error', 'perimeter error', 'area error',\n",
            "       'smoothness error', 'compactness error', 'concavity error',\n",
            "       'concave points error', 'symmetry error',\n",
            "       'fractal dimension error', 'worst radius', 'worst texture',\n",
            "       'worst perimeter', 'worst area', 'worst smoothness',\n",
            "       'worst compactness', 'worst concavity', 'worst concave points',\n",
            "       'worst symmetry', 'worst fractal dimension'], dtype='<U23'), 'filename': '/usr/local/lib/python3.7/dist-packages/sklearn/datasets/data/breast_cancer.csv'}\n"
          ],
          "name": "stdout"
        }
      ]
    },
    {
      "cell_type": "code",
      "metadata": {
        "id": "YwRSJjPG4xCS"
      },
      "source": [
        "# check data description\n",
        "breast_cancer_description_data = breast_cancer_raw_data['DESCR']"
      ],
      "execution_count": null,
      "outputs": []
    },
    {
      "cell_type": "code",
      "metadata": {
        "id": "Z1QvgtBc4xCS",
        "colab": {
          "base_uri": "https://localhost:8080/"
        },
        "outputId": "b081cb05-f0b9-4c55-8c1e-ec5f905dbe8a"
      },
      "source": [
        "print(breast_cancer_description_data)"
      ],
      "execution_count": null,
      "outputs": [
        {
          "output_type": "stream",
          "text": [
            ".. _breast_cancer_dataset:\n",
            "\n",
            "Breast cancer wisconsin (diagnostic) dataset\n",
            "--------------------------------------------\n",
            "\n",
            "**Data Set Characteristics:**\n",
            "\n",
            "    :Number of Instances: 569\n",
            "\n",
            "    :Number of Attributes: 30 numeric, predictive attributes and the class\n",
            "\n",
            "    :Attribute Information:\n",
            "        - radius (mean of distances from center to points on the perimeter)\n",
            "        - texture (standard deviation of gray-scale values)\n",
            "        - perimeter\n",
            "        - area\n",
            "        - smoothness (local variation in radius lengths)\n",
            "        - compactness (perimeter^2 / area - 1.0)\n",
            "        - concavity (severity of concave portions of the contour)\n",
            "        - concave points (number of concave portions of the contour)\n",
            "        - symmetry \n",
            "        - fractal dimension (\"coastline approximation\" - 1)\n",
            "\n",
            "        The mean, standard error, and \"worst\" or largest (mean of the three\n",
            "        largest values) of these features were computed for each image,\n",
            "        resulting in 30 features.  For instance, field 3 is Mean Radius, field\n",
            "        13 is Radius SE, field 23 is Worst Radius.\n",
            "\n",
            "        - class:\n",
            "                - WDBC-Malignant\n",
            "                - WDBC-Benign\n",
            "\n",
            "    :Summary Statistics:\n",
            "\n",
            "    ===================================== ====== ======\n",
            "                                           Min    Max\n",
            "    ===================================== ====== ======\n",
            "    radius (mean):                        6.981  28.11\n",
            "    texture (mean):                       9.71   39.28\n",
            "    perimeter (mean):                     43.79  188.5\n",
            "    area (mean):                          143.5  2501.0\n",
            "    smoothness (mean):                    0.053  0.163\n",
            "    compactness (mean):                   0.019  0.345\n",
            "    concavity (mean):                     0.0    0.427\n",
            "    concave points (mean):                0.0    0.201\n",
            "    symmetry (mean):                      0.106  0.304\n",
            "    fractal dimension (mean):             0.05   0.097\n",
            "    radius (standard error):              0.112  2.873\n",
            "    texture (standard error):             0.36   4.885\n",
            "    perimeter (standard error):           0.757  21.98\n",
            "    area (standard error):                6.802  542.2\n",
            "    smoothness (standard error):          0.002  0.031\n",
            "    compactness (standard error):         0.002  0.135\n",
            "    concavity (standard error):           0.0    0.396\n",
            "    concave points (standard error):      0.0    0.053\n",
            "    symmetry (standard error):            0.008  0.079\n",
            "    fractal dimension (standard error):   0.001  0.03\n",
            "    radius (worst):                       7.93   36.04\n",
            "    texture (worst):                      12.02  49.54\n",
            "    perimeter (worst):                    50.41  251.2\n",
            "    area (worst):                         185.2  4254.0\n",
            "    smoothness (worst):                   0.071  0.223\n",
            "    compactness (worst):                  0.027  1.058\n",
            "    concavity (worst):                    0.0    1.252\n",
            "    concave points (worst):               0.0    0.291\n",
            "    symmetry (worst):                     0.156  0.664\n",
            "    fractal dimension (worst):            0.055  0.208\n",
            "    ===================================== ====== ======\n",
            "\n",
            "    :Missing Attribute Values: None\n",
            "\n",
            "    :Class Distribution: 212 - Malignant, 357 - Benign\n",
            "\n",
            "    :Creator:  Dr. William H. Wolberg, W. Nick Street, Olvi L. Mangasarian\n",
            "\n",
            "    :Donor: Nick Street\n",
            "\n",
            "    :Date: November, 1995\n",
            "\n",
            "This is a copy of UCI ML Breast Cancer Wisconsin (Diagnostic) datasets.\n",
            "https://goo.gl/U2Uwz2\n",
            "\n",
            "Features are computed from a digitized image of a fine needle\n",
            "aspirate (FNA) of a breast mass.  They describe\n",
            "characteristics of the cell nuclei present in the image.\n",
            "\n",
            "Separating plane described above was obtained using\n",
            "Multisurface Method-Tree (MSM-T) [K. P. Bennett, \"Decision Tree\n",
            "Construction Via Linear Programming.\" Proceedings of the 4th\n",
            "Midwest Artificial Intelligence and Cognitive Science Society,\n",
            "pp. 97-101, 1992], a classification method which uses linear\n",
            "programming to construct a decision tree.  Relevant features\n",
            "were selected using an exhaustive search in the space of 1-4\n",
            "features and 1-3 separating planes.\n",
            "\n",
            "The actual linear program used to obtain the separating plane\n",
            "in the 3-dimensional space is that described in:\n",
            "[K. P. Bennett and O. L. Mangasarian: \"Robust Linear\n",
            "Programming Discrimination of Two Linearly Inseparable Sets\",\n",
            "Optimization Methods and Software 1, 1992, 23-34].\n",
            "\n",
            "This database is also available through the UW CS ftp server:\n",
            "\n",
            "ftp ftp.cs.wisc.edu\n",
            "cd math-prog/cpo-dataset/machine-learn/WDBC/\n",
            "\n",
            ".. topic:: References\n",
            "\n",
            "   - W.N. Street, W.H. Wolberg and O.L. Mangasarian. Nuclear feature extraction \n",
            "     for breast tumor diagnosis. IS&T/SPIE 1993 International Symposium on \n",
            "     Electronic Imaging: Science and Technology, volume 1905, pages 861-870,\n",
            "     San Jose, CA, 1993.\n",
            "   - O.L. Mangasarian, W.N. Street and W.H. Wolberg. Breast cancer diagnosis and \n",
            "     prognosis via linear programming. Operations Research, 43(4), pages 570-577, \n",
            "     July-August 1995.\n",
            "   - W.H. Wolberg, W.N. Street, and O.L. Mangasarian. Machine learning techniques\n",
            "     to diagnose breast cancer from fine-needle aspirates. Cancer Letters 77 (1994) \n",
            "     163-171.\n"
          ],
          "name": "stdout"
        }
      ]
    },
    {
      "cell_type": "code",
      "metadata": {
        "id": "gyAhEbwQ4xCT"
      },
      "source": [
        "# check column name\n",
        "breast_cancer_column_name = breast_cancer_raw_data['feature_names']"
      ],
      "execution_count": null,
      "outputs": []
    },
    {
      "cell_type": "code",
      "metadata": {
        "id": "9_eLFsdn4xCT",
        "colab": {
          "base_uri": "https://localhost:8080/"
        },
        "outputId": "99509360-fa48-47b2-8dc2-25cb761d9a79"
      },
      "source": [
        "print(breast_cancer_column_name)"
      ],
      "execution_count": null,
      "outputs": [
        {
          "output_type": "stream",
          "text": [
            "['mean radius' 'mean texture' 'mean perimeter' 'mean area'\n",
            " 'mean smoothness' 'mean compactness' 'mean concavity'\n",
            " 'mean concave points' 'mean symmetry' 'mean fractal dimension'\n",
            " 'radius error' 'texture error' 'perimeter error' 'area error'\n",
            " 'smoothness error' 'compactness error' 'concavity error'\n",
            " 'concave points error' 'symmetry error' 'fractal dimension error'\n",
            " 'worst radius' 'worst texture' 'worst perimeter' 'worst area'\n",
            " 'worst smoothness' 'worst compactness' 'worst concavity'\n",
            " 'worst concave points' 'worst symmetry' 'worst fractal dimension']\n"
          ],
          "name": "stdout"
        }
      ]
    },
    {
      "cell_type": "code",
      "metadata": {
        "id": "Fwuyd8k84xCT"
      },
      "source": [
        "# check target data\n",
        "breast_cancer_target_data = breast_cancer_raw_data['target']"
      ],
      "execution_count": null,
      "outputs": []
    },
    {
      "cell_type": "code",
      "metadata": {
        "id": "-QVrHJe54xCT",
        "colab": {
          "base_uri": "https://localhost:8080/"
        },
        "outputId": "610cbf10-0110-4d8a-fd7d-4815583c9434"
      },
      "source": [
        "print(breast_cancer_target_data)"
      ],
      "execution_count": null,
      "outputs": [
        {
          "output_type": "stream",
          "text": [
            "[0 0 0 0 0 0 0 0 0 0 0 0 0 0 0 0 0 0 0 1 1 1 0 0 0 0 0 0 0 0 0 0 0 0 0 0 0\n",
            " 1 0 0 0 0 0 0 0 0 1 0 1 1 1 1 1 0 0 1 0 0 1 1 1 1 0 1 0 0 1 1 1 1 0 1 0 0\n",
            " 1 0 1 0 0 1 1 1 0 0 1 0 0 0 1 1 1 0 1 1 0 0 1 1 1 0 0 1 1 1 1 0 1 1 0 1 1\n",
            " 1 1 1 1 1 1 0 0 0 1 0 0 1 1 1 0 0 1 0 1 0 0 1 0 0 1 1 0 1 1 0 1 1 1 1 0 1\n",
            " 1 1 1 1 1 1 1 1 0 1 1 1 1 0 0 1 0 1 1 0 0 1 1 0 0 1 1 1 1 0 1 1 0 0 0 1 0\n",
            " 1 0 1 1 1 0 1 1 0 0 1 0 0 0 0 1 0 0 0 1 0 1 0 1 1 0 1 0 0 0 0 1 1 0 0 1 1\n",
            " 1 0 1 1 1 1 1 0 0 1 1 0 1 1 0 0 1 0 1 1 1 1 0 1 1 1 1 1 0 1 0 0 0 0 0 0 0\n",
            " 0 0 0 0 0 0 0 1 1 1 1 1 1 0 1 0 1 1 0 1 1 0 1 0 0 1 1 1 1 1 1 1 1 1 1 1 1\n",
            " 1 0 1 1 0 1 0 1 1 1 1 1 1 1 1 1 1 1 1 1 1 0 1 1 1 0 1 0 1 1 1 1 0 0 0 1 1\n",
            " 1 1 0 1 0 1 0 1 1 1 0 1 1 1 1 1 1 1 0 0 0 1 1 1 1 1 1 1 1 1 1 1 0 0 1 0 0\n",
            " 0 1 0 0 1 1 1 1 1 0 1 1 1 1 1 0 1 1 1 0 1 1 0 0 1 1 1 1 1 1 0 1 1 1 1 1 1\n",
            " 1 0 1 1 1 1 1 0 1 1 0 1 1 1 1 1 1 1 1 1 1 1 1 0 1 0 0 1 0 1 1 1 1 1 0 1 1\n",
            " 0 1 0 1 1 0 1 0 1 1 1 1 1 1 1 1 0 0 1 1 1 1 1 1 0 1 1 1 1 1 1 1 1 1 1 0 1\n",
            " 1 1 1 1 1 1 0 1 0 1 1 0 1 1 1 1 1 0 0 1 0 1 0 1 1 1 1 1 0 1 1 0 1 0 1 0 0\n",
            " 1 1 1 0 1 1 1 1 1 1 1 1 1 1 1 0 1 0 0 1 1 1 1 1 1 1 1 1 1 1 1 1 1 1 1 1 1\n",
            " 1 1 1 1 1 1 1 0 0 0 0 0 0 1]\n"
          ],
          "name": "stdout"
        }
      ]
    },
    {
      "cell_type": "code",
      "metadata": {
        "id": "tDivKZF6DZhz"
      },
      "source": [
        "# check target name\n",
        "breast_cancer_target_name = breast_cancer_raw_data['target_names']"
      ],
      "execution_count": null,
      "outputs": []
    },
    {
      "cell_type": "code",
      "metadata": {
        "id": "-VMD2SV9DZUq",
        "colab": {
          "base_uri": "https://localhost:8080/"
        },
        "outputId": "81b29d15-9685-4015-bc73-1e25de841f3d"
      },
      "source": [
        "print(breast_cancer_target_name)"
      ],
      "execution_count": null,
      "outputs": [
        {
          "output_type": "stream",
          "text": [
            "['malignant' 'benign']\n"
          ],
          "name": "stdout"
        }
      ]
    },
    {
      "cell_type": "code",
      "metadata": {
        "id": "1KuhhlCp4xCU"
      },
      "source": [
        "# check value data\n",
        "breast_cancer_value_data = breast_cancer_raw_data['data']"
      ],
      "execution_count": null,
      "outputs": []
    },
    {
      "cell_type": "code",
      "metadata": {
        "id": "4hhJntSE4xCU",
        "colab": {
          "base_uri": "https://localhost:8080/"
        },
        "outputId": "db8f6acb-9523-4f92-9e93-934dab304793"
      },
      "source": [
        "print(breast_cancer_value_data)"
      ],
      "execution_count": null,
      "outputs": [
        {
          "output_type": "stream",
          "text": [
            "[[1.799e+01 1.038e+01 1.228e+02 ... 2.654e-01 4.601e-01 1.189e-01]\n",
            " [2.057e+01 1.777e+01 1.329e+02 ... 1.860e-01 2.750e-01 8.902e-02]\n",
            " [1.969e+01 2.125e+01 1.300e+02 ... 2.430e-01 3.613e-01 8.758e-02]\n",
            " ...\n",
            " [1.660e+01 2.808e+01 1.083e+02 ... 1.418e-01 2.218e-01 7.820e-02]\n",
            " [2.060e+01 2.933e+01 1.401e+02 ... 2.650e-01 4.087e-01 1.240e-01]\n",
            " [7.760e+00 2.454e+01 4.792e+01 ... 0.000e+00 2.871e-01 7.039e-02]]\n"
          ],
          "name": "stdout"
        }
      ]
    },
    {
      "cell_type": "markdown",
      "metadata": {
        "id": "XOqQeUHJ4xCU"
      },
      "source": [
        "# **Exploratory Data Analysis**"
      ]
    },
    {
      "cell_type": "code",
      "metadata": {
        "id": "-D5UZdZN4xCU",
        "colab": {
          "base_uri": "https://localhost:8080/"
        },
        "outputId": "08fa11e6-ae1c-491f-cbf1-8143148769c7"
      },
      "source": [
        "# merge value data and target data - check data type and shape\n",
        "print('data type value:',type(breast_cancer_value_data))\n",
        "print('shape value:',breast_cancer_value_data.shape)\n",
        "print('\\n')\n",
        "print('data type target:',type(breast_cancer_target_data))\n",
        "print('shape target:',breast_cancer_target_data.shape)"
      ],
      "execution_count": null,
      "outputs": [
        {
          "output_type": "stream",
          "text": [
            "data type value: <class 'numpy.ndarray'>\n",
            "shape value: (569, 30)\n",
            "\n",
            "\n",
            "data type target: <class 'numpy.ndarray'>\n",
            "shape target: (569,)\n"
          ],
          "name": "stdout"
        }
      ]
    },
    {
      "cell_type": "code",
      "metadata": {
        "id": "mhCFZvfe4xCV",
        "colab": {
          "base_uri": "https://localhost:8080/"
        },
        "outputId": "fda9bfe1-47a5-44fd-fdf5-a7ad875d0f14"
      },
      "source": [
        "# merge value data and target data - reshape target data\n",
        "breast_cancer_target_data = breast_cancer_target_data.reshape(-1,1)\n",
        "print('shape target after reshape:',breast_cancer_target_data.shape)"
      ],
      "execution_count": null,
      "outputs": [
        {
          "output_type": "stream",
          "text": [
            "shape target after reshape: (569, 1)\n"
          ],
          "name": "stdout"
        }
      ]
    },
    {
      "cell_type": "code",
      "metadata": {
        "id": "dmbrL1La4xCV",
        "colab": {
          "base_uri": "https://localhost:8080/"
        },
        "outputId": "f092a52e-3750-4bf6-bf06-961d7fd88ea6"
      },
      "source": [
        "# merge value data and target data - final\n",
        "breast_cancer_merge_data = np.hstack((breast_cancer_value_data,breast_cancer_target_data))\n",
        "print(breast_cancer_merge_data)"
      ],
      "execution_count": null,
      "outputs": [
        {
          "output_type": "stream",
          "text": [
            "[[1.799e+01 1.038e+01 1.228e+02 ... 4.601e-01 1.189e-01 0.000e+00]\n",
            " [2.057e+01 1.777e+01 1.329e+02 ... 2.750e-01 8.902e-02 0.000e+00]\n",
            " [1.969e+01 2.125e+01 1.300e+02 ... 3.613e-01 8.758e-02 0.000e+00]\n",
            " ...\n",
            " [1.660e+01 2.808e+01 1.083e+02 ... 2.218e-01 7.820e-02 0.000e+00]\n",
            " [2.060e+01 2.933e+01 1.401e+02 ... 4.087e-01 1.240e-01 0.000e+00]\n",
            " [7.760e+00 2.454e+01 4.792e+01 ... 2.871e-01 7.039e-02 1.000e+00]]\n"
          ],
          "name": "stdout"
        }
      ]
    },
    {
      "cell_type": "code",
      "metadata": {
        "id": "1d31tRFd4xCV",
        "colab": {
          "base_uri": "https://localhost:8080/",
          "height": 258
        },
        "outputId": "361aa786-c74a-41cb-a805-42bd0b95b613"
      },
      "source": [
        "# read the data as dataframe\n",
        "df = pd.DataFrame(breast_cancer_merge_data,columns=breast_cancer_column_name.tolist()+['is_cancer'])\n",
        "df.head(5)"
      ],
      "execution_count": null,
      "outputs": [
        {
          "output_type": "execute_result",
          "data": {
            "text/html": [
              "<div>\n",
              "<style scoped>\n",
              "    .dataframe tbody tr th:only-of-type {\n",
              "        vertical-align: middle;\n",
              "    }\n",
              "\n",
              "    .dataframe tbody tr th {\n",
              "        vertical-align: top;\n",
              "    }\n",
              "\n",
              "    .dataframe thead th {\n",
              "        text-align: right;\n",
              "    }\n",
              "</style>\n",
              "<table border=\"1\" class=\"dataframe\">\n",
              "  <thead>\n",
              "    <tr style=\"text-align: right;\">\n",
              "      <th></th>\n",
              "      <th>mean radius</th>\n",
              "      <th>mean texture</th>\n",
              "      <th>mean perimeter</th>\n",
              "      <th>mean area</th>\n",
              "      <th>mean smoothness</th>\n",
              "      <th>mean compactness</th>\n",
              "      <th>mean concavity</th>\n",
              "      <th>mean concave points</th>\n",
              "      <th>mean symmetry</th>\n",
              "      <th>mean fractal dimension</th>\n",
              "      <th>radius error</th>\n",
              "      <th>texture error</th>\n",
              "      <th>perimeter error</th>\n",
              "      <th>area error</th>\n",
              "      <th>smoothness error</th>\n",
              "      <th>compactness error</th>\n",
              "      <th>concavity error</th>\n",
              "      <th>concave points error</th>\n",
              "      <th>symmetry error</th>\n",
              "      <th>fractal dimension error</th>\n",
              "      <th>worst radius</th>\n",
              "      <th>worst texture</th>\n",
              "      <th>worst perimeter</th>\n",
              "      <th>worst area</th>\n",
              "      <th>worst smoothness</th>\n",
              "      <th>worst compactness</th>\n",
              "      <th>worst concavity</th>\n",
              "      <th>worst concave points</th>\n",
              "      <th>worst symmetry</th>\n",
              "      <th>worst fractal dimension</th>\n",
              "      <th>is_cancer</th>\n",
              "    </tr>\n",
              "  </thead>\n",
              "  <tbody>\n",
              "    <tr>\n",
              "      <th>0</th>\n",
              "      <td>17.99</td>\n",
              "      <td>10.38</td>\n",
              "      <td>122.80</td>\n",
              "      <td>1001.0</td>\n",
              "      <td>0.11840</td>\n",
              "      <td>0.27760</td>\n",
              "      <td>0.3001</td>\n",
              "      <td>0.14710</td>\n",
              "      <td>0.2419</td>\n",
              "      <td>0.07871</td>\n",
              "      <td>1.0950</td>\n",
              "      <td>0.9053</td>\n",
              "      <td>8.589</td>\n",
              "      <td>153.40</td>\n",
              "      <td>0.006399</td>\n",
              "      <td>0.04904</td>\n",
              "      <td>0.05373</td>\n",
              "      <td>0.01587</td>\n",
              "      <td>0.03003</td>\n",
              "      <td>0.006193</td>\n",
              "      <td>25.38</td>\n",
              "      <td>17.33</td>\n",
              "      <td>184.60</td>\n",
              "      <td>2019.0</td>\n",
              "      <td>0.1622</td>\n",
              "      <td>0.6656</td>\n",
              "      <td>0.7119</td>\n",
              "      <td>0.2654</td>\n",
              "      <td>0.4601</td>\n",
              "      <td>0.11890</td>\n",
              "      <td>0.0</td>\n",
              "    </tr>\n",
              "    <tr>\n",
              "      <th>1</th>\n",
              "      <td>20.57</td>\n",
              "      <td>17.77</td>\n",
              "      <td>132.90</td>\n",
              "      <td>1326.0</td>\n",
              "      <td>0.08474</td>\n",
              "      <td>0.07864</td>\n",
              "      <td>0.0869</td>\n",
              "      <td>0.07017</td>\n",
              "      <td>0.1812</td>\n",
              "      <td>0.05667</td>\n",
              "      <td>0.5435</td>\n",
              "      <td>0.7339</td>\n",
              "      <td>3.398</td>\n",
              "      <td>74.08</td>\n",
              "      <td>0.005225</td>\n",
              "      <td>0.01308</td>\n",
              "      <td>0.01860</td>\n",
              "      <td>0.01340</td>\n",
              "      <td>0.01389</td>\n",
              "      <td>0.003532</td>\n",
              "      <td>24.99</td>\n",
              "      <td>23.41</td>\n",
              "      <td>158.80</td>\n",
              "      <td>1956.0</td>\n",
              "      <td>0.1238</td>\n",
              "      <td>0.1866</td>\n",
              "      <td>0.2416</td>\n",
              "      <td>0.1860</td>\n",
              "      <td>0.2750</td>\n",
              "      <td>0.08902</td>\n",
              "      <td>0.0</td>\n",
              "    </tr>\n",
              "    <tr>\n",
              "      <th>2</th>\n",
              "      <td>19.69</td>\n",
              "      <td>21.25</td>\n",
              "      <td>130.00</td>\n",
              "      <td>1203.0</td>\n",
              "      <td>0.10960</td>\n",
              "      <td>0.15990</td>\n",
              "      <td>0.1974</td>\n",
              "      <td>0.12790</td>\n",
              "      <td>0.2069</td>\n",
              "      <td>0.05999</td>\n",
              "      <td>0.7456</td>\n",
              "      <td>0.7869</td>\n",
              "      <td>4.585</td>\n",
              "      <td>94.03</td>\n",
              "      <td>0.006150</td>\n",
              "      <td>0.04006</td>\n",
              "      <td>0.03832</td>\n",
              "      <td>0.02058</td>\n",
              "      <td>0.02250</td>\n",
              "      <td>0.004571</td>\n",
              "      <td>23.57</td>\n",
              "      <td>25.53</td>\n",
              "      <td>152.50</td>\n",
              "      <td>1709.0</td>\n",
              "      <td>0.1444</td>\n",
              "      <td>0.4245</td>\n",
              "      <td>0.4504</td>\n",
              "      <td>0.2430</td>\n",
              "      <td>0.3613</td>\n",
              "      <td>0.08758</td>\n",
              "      <td>0.0</td>\n",
              "    </tr>\n",
              "    <tr>\n",
              "      <th>3</th>\n",
              "      <td>11.42</td>\n",
              "      <td>20.38</td>\n",
              "      <td>77.58</td>\n",
              "      <td>386.1</td>\n",
              "      <td>0.14250</td>\n",
              "      <td>0.28390</td>\n",
              "      <td>0.2414</td>\n",
              "      <td>0.10520</td>\n",
              "      <td>0.2597</td>\n",
              "      <td>0.09744</td>\n",
              "      <td>0.4956</td>\n",
              "      <td>1.1560</td>\n",
              "      <td>3.445</td>\n",
              "      <td>27.23</td>\n",
              "      <td>0.009110</td>\n",
              "      <td>0.07458</td>\n",
              "      <td>0.05661</td>\n",
              "      <td>0.01867</td>\n",
              "      <td>0.05963</td>\n",
              "      <td>0.009208</td>\n",
              "      <td>14.91</td>\n",
              "      <td>26.50</td>\n",
              "      <td>98.87</td>\n",
              "      <td>567.7</td>\n",
              "      <td>0.2098</td>\n",
              "      <td>0.8663</td>\n",
              "      <td>0.6869</td>\n",
              "      <td>0.2575</td>\n",
              "      <td>0.6638</td>\n",
              "      <td>0.17300</td>\n",
              "      <td>0.0</td>\n",
              "    </tr>\n",
              "    <tr>\n",
              "      <th>4</th>\n",
              "      <td>20.29</td>\n",
              "      <td>14.34</td>\n",
              "      <td>135.10</td>\n",
              "      <td>1297.0</td>\n",
              "      <td>0.10030</td>\n",
              "      <td>0.13280</td>\n",
              "      <td>0.1980</td>\n",
              "      <td>0.10430</td>\n",
              "      <td>0.1809</td>\n",
              "      <td>0.05883</td>\n",
              "      <td>0.7572</td>\n",
              "      <td>0.7813</td>\n",
              "      <td>5.438</td>\n",
              "      <td>94.44</td>\n",
              "      <td>0.011490</td>\n",
              "      <td>0.02461</td>\n",
              "      <td>0.05688</td>\n",
              "      <td>0.01885</td>\n",
              "      <td>0.01756</td>\n",
              "      <td>0.005115</td>\n",
              "      <td>22.54</td>\n",
              "      <td>16.67</td>\n",
              "      <td>152.20</td>\n",
              "      <td>1575.0</td>\n",
              "      <td>0.1374</td>\n",
              "      <td>0.2050</td>\n",
              "      <td>0.4000</td>\n",
              "      <td>0.1625</td>\n",
              "      <td>0.2364</td>\n",
              "      <td>0.07678</td>\n",
              "      <td>0.0</td>\n",
              "    </tr>\n",
              "  </tbody>\n",
              "</table>\n",
              "</div>"
            ],
            "text/plain": [
              "   mean radius  mean texture  ...  worst fractal dimension  is_cancer\n",
              "0        17.99         10.38  ...                  0.11890        0.0\n",
              "1        20.57         17.77  ...                  0.08902        0.0\n",
              "2        19.69         21.25  ...                  0.08758        0.0\n",
              "3        11.42         20.38  ...                  0.17300        0.0\n",
              "4        20.29         14.34  ...                  0.07678        0.0\n",
              "\n",
              "[5 rows x 31 columns]"
            ]
          },
          "metadata": {
            "tags": []
          },
          "execution_count": 20
        }
      ]
    },
    {
      "cell_type": "code",
      "metadata": {
        "id": "kBIusmCK4xCW",
        "colab": {
          "base_uri": "https://localhost:8080/"
        },
        "outputId": "41670d9f-ca75-4f53-c88c-eb606a9b0896"
      },
      "source": [
        "# simple data checking - get row and column of dataframe\n",
        "print(df.shape)"
      ],
      "execution_count": null,
      "outputs": [
        {
          "output_type": "stream",
          "text": [
            "(569, 31)\n"
          ],
          "name": "stdout"
        }
      ]
    },
    {
      "cell_type": "code",
      "metadata": {
        "id": "lNfTQVi64xCW",
        "colab": {
          "base_uri": "https://localhost:8080/"
        },
        "outputId": "c1c8561c-c8e6-46e7-e135-8045ff3570b0"
      },
      "source": [
        "# simple data checking - get columns name\n",
        "print(df.columns)"
      ],
      "execution_count": null,
      "outputs": [
        {
          "output_type": "stream",
          "text": [
            "Index(['mean radius', 'mean texture', 'mean perimeter', 'mean area',\n",
            "       'mean smoothness', 'mean compactness', 'mean concavity',\n",
            "       'mean concave points', 'mean symmetry', 'mean fractal dimension',\n",
            "       'radius error', 'texture error', 'perimeter error', 'area error',\n",
            "       'smoothness error', 'compactness error', 'concavity error',\n",
            "       'concave points error', 'symmetry error', 'fractal dimension error',\n",
            "       'worst radius', 'worst texture', 'worst perimeter', 'worst area',\n",
            "       'worst smoothness', 'worst compactness', 'worst concavity',\n",
            "       'worst concave points', 'worst symmetry', 'worst fractal dimension',\n",
            "       'is_cancer'],\n",
            "      dtype='object')\n"
          ],
          "name": "stdout"
        }
      ]
    },
    {
      "cell_type": "code",
      "metadata": {
        "id": "kP8hRWXQ4xCW",
        "colab": {
          "base_uri": "https://localhost:8080/"
        },
        "outputId": "9f7d491c-56b9-47f6-c399-c2a8f76ccceb"
      },
      "source": [
        "# simple data checking - get dataframe general information\n",
        "df.info()"
      ],
      "execution_count": null,
      "outputs": [
        {
          "output_type": "stream",
          "text": [
            "<class 'pandas.core.frame.DataFrame'>\n",
            "RangeIndex: 569 entries, 0 to 568\n",
            "Data columns (total 31 columns):\n",
            " #   Column                   Non-Null Count  Dtype  \n",
            "---  ------                   --------------  -----  \n",
            " 0   mean radius              569 non-null    float64\n",
            " 1   mean texture             569 non-null    float64\n",
            " 2   mean perimeter           569 non-null    float64\n",
            " 3   mean area                569 non-null    float64\n",
            " 4   mean smoothness          569 non-null    float64\n",
            " 5   mean compactness         569 non-null    float64\n",
            " 6   mean concavity           569 non-null    float64\n",
            " 7   mean concave points      569 non-null    float64\n",
            " 8   mean symmetry            569 non-null    float64\n",
            " 9   mean fractal dimension   569 non-null    float64\n",
            " 10  radius error             569 non-null    float64\n",
            " 11  texture error            569 non-null    float64\n",
            " 12  perimeter error          569 non-null    float64\n",
            " 13  area error               569 non-null    float64\n",
            " 14  smoothness error         569 non-null    float64\n",
            " 15  compactness error        569 non-null    float64\n",
            " 16  concavity error          569 non-null    float64\n",
            " 17  concave points error     569 non-null    float64\n",
            " 18  symmetry error           569 non-null    float64\n",
            " 19  fractal dimension error  569 non-null    float64\n",
            " 20  worst radius             569 non-null    float64\n",
            " 21  worst texture            569 non-null    float64\n",
            " 22  worst perimeter          569 non-null    float64\n",
            " 23  worst area               569 non-null    float64\n",
            " 24  worst smoothness         569 non-null    float64\n",
            " 25  worst compactness        569 non-null    float64\n",
            " 26  worst concavity          569 non-null    float64\n",
            " 27  worst concave points     569 non-null    float64\n",
            " 28  worst symmetry           569 non-null    float64\n",
            " 29  worst fractal dimension  569 non-null    float64\n",
            " 30  is_cancer                569 non-null    float64\n",
            "dtypes: float64(31)\n",
            "memory usage: 137.9 KB\n"
          ],
          "name": "stdout"
        }
      ]
    },
    {
      "cell_type": "code",
      "metadata": {
        "id": "dhEAnuWQ4xCW"
      },
      "source": [
        "# assign variable for column in numeric type\n",
        "numeric_column = ['mean radius', 'mean texture', 'mean perimeter', 'mean area',\n",
        "       'mean smoothness', 'mean compactness', 'mean concavity',\n",
        "       'mean concave points', 'mean symmetry', 'mean fractal dimension',\n",
        "       'radius error', 'texture error', 'perimeter error', 'area error',\n",
        "       'smoothness error', 'compactness error', 'concavity error',\n",
        "       'concave points error', 'symmetry error', 'fractal dimension error',\n",
        "       'worst radius', 'worst texture', 'worst perimeter', 'worst area',\n",
        "       'worst smoothness', 'worst compactness', 'worst concavity',\n",
        "       'worst concave points', 'worst symmetry', 'worst fractal dimension']"
      ],
      "execution_count": null,
      "outputs": []
    },
    {
      "cell_type": "code",
      "metadata": {
        "id": "6MZA8aOJ4xCX",
        "colab": {
          "base_uri": "https://localhost:8080/",
          "height": 351
        },
        "outputId": "9f538c47-8bcb-46f8-84be-36bd45dd258c"
      },
      "source": [
        "# check simple statistic of the numeric value\n",
        "df[numeric_column].describe()"
      ],
      "execution_count": null,
      "outputs": [
        {
          "output_type": "execute_result",
          "data": {
            "text/html": [
              "<div>\n",
              "<style scoped>\n",
              "    .dataframe tbody tr th:only-of-type {\n",
              "        vertical-align: middle;\n",
              "    }\n",
              "\n",
              "    .dataframe tbody tr th {\n",
              "        vertical-align: top;\n",
              "    }\n",
              "\n",
              "    .dataframe thead th {\n",
              "        text-align: right;\n",
              "    }\n",
              "</style>\n",
              "<table border=\"1\" class=\"dataframe\">\n",
              "  <thead>\n",
              "    <tr style=\"text-align: right;\">\n",
              "      <th></th>\n",
              "      <th>mean radius</th>\n",
              "      <th>mean texture</th>\n",
              "      <th>mean perimeter</th>\n",
              "      <th>mean area</th>\n",
              "      <th>mean smoothness</th>\n",
              "      <th>mean compactness</th>\n",
              "      <th>mean concavity</th>\n",
              "      <th>mean concave points</th>\n",
              "      <th>mean symmetry</th>\n",
              "      <th>mean fractal dimension</th>\n",
              "      <th>radius error</th>\n",
              "      <th>texture error</th>\n",
              "      <th>perimeter error</th>\n",
              "      <th>area error</th>\n",
              "      <th>smoothness error</th>\n",
              "      <th>compactness error</th>\n",
              "      <th>concavity error</th>\n",
              "      <th>concave points error</th>\n",
              "      <th>symmetry error</th>\n",
              "      <th>fractal dimension error</th>\n",
              "      <th>worst radius</th>\n",
              "      <th>worst texture</th>\n",
              "      <th>worst perimeter</th>\n",
              "      <th>worst area</th>\n",
              "      <th>worst smoothness</th>\n",
              "      <th>worst compactness</th>\n",
              "      <th>worst concavity</th>\n",
              "      <th>worst concave points</th>\n",
              "      <th>worst symmetry</th>\n",
              "      <th>worst fractal dimension</th>\n",
              "    </tr>\n",
              "  </thead>\n",
              "  <tbody>\n",
              "    <tr>\n",
              "      <th>count</th>\n",
              "      <td>569.000000</td>\n",
              "      <td>569.000000</td>\n",
              "      <td>569.000000</td>\n",
              "      <td>569.000000</td>\n",
              "      <td>569.000000</td>\n",
              "      <td>569.000000</td>\n",
              "      <td>569.000000</td>\n",
              "      <td>569.000000</td>\n",
              "      <td>569.000000</td>\n",
              "      <td>569.000000</td>\n",
              "      <td>569.000000</td>\n",
              "      <td>569.000000</td>\n",
              "      <td>569.000000</td>\n",
              "      <td>569.000000</td>\n",
              "      <td>569.000000</td>\n",
              "      <td>569.000000</td>\n",
              "      <td>569.000000</td>\n",
              "      <td>569.000000</td>\n",
              "      <td>569.000000</td>\n",
              "      <td>569.000000</td>\n",
              "      <td>569.000000</td>\n",
              "      <td>569.000000</td>\n",
              "      <td>569.000000</td>\n",
              "      <td>569.000000</td>\n",
              "      <td>569.000000</td>\n",
              "      <td>569.000000</td>\n",
              "      <td>569.000000</td>\n",
              "      <td>569.000000</td>\n",
              "      <td>569.000000</td>\n",
              "      <td>569.000000</td>\n",
              "    </tr>\n",
              "    <tr>\n",
              "      <th>mean</th>\n",
              "      <td>14.127292</td>\n",
              "      <td>19.289649</td>\n",
              "      <td>91.969033</td>\n",
              "      <td>654.889104</td>\n",
              "      <td>0.096360</td>\n",
              "      <td>0.104341</td>\n",
              "      <td>0.088799</td>\n",
              "      <td>0.048919</td>\n",
              "      <td>0.181162</td>\n",
              "      <td>0.062798</td>\n",
              "      <td>0.405172</td>\n",
              "      <td>1.216853</td>\n",
              "      <td>2.866059</td>\n",
              "      <td>40.337079</td>\n",
              "      <td>0.007041</td>\n",
              "      <td>0.025478</td>\n",
              "      <td>0.031894</td>\n",
              "      <td>0.011796</td>\n",
              "      <td>0.020542</td>\n",
              "      <td>0.003795</td>\n",
              "      <td>16.269190</td>\n",
              "      <td>25.677223</td>\n",
              "      <td>107.261213</td>\n",
              "      <td>880.583128</td>\n",
              "      <td>0.132369</td>\n",
              "      <td>0.254265</td>\n",
              "      <td>0.272188</td>\n",
              "      <td>0.114606</td>\n",
              "      <td>0.290076</td>\n",
              "      <td>0.083946</td>\n",
              "    </tr>\n",
              "    <tr>\n",
              "      <th>std</th>\n",
              "      <td>3.524049</td>\n",
              "      <td>4.301036</td>\n",
              "      <td>24.298981</td>\n",
              "      <td>351.914129</td>\n",
              "      <td>0.014064</td>\n",
              "      <td>0.052813</td>\n",
              "      <td>0.079720</td>\n",
              "      <td>0.038803</td>\n",
              "      <td>0.027414</td>\n",
              "      <td>0.007060</td>\n",
              "      <td>0.277313</td>\n",
              "      <td>0.551648</td>\n",
              "      <td>2.021855</td>\n",
              "      <td>45.491006</td>\n",
              "      <td>0.003003</td>\n",
              "      <td>0.017908</td>\n",
              "      <td>0.030186</td>\n",
              "      <td>0.006170</td>\n",
              "      <td>0.008266</td>\n",
              "      <td>0.002646</td>\n",
              "      <td>4.833242</td>\n",
              "      <td>6.146258</td>\n",
              "      <td>33.602542</td>\n",
              "      <td>569.356993</td>\n",
              "      <td>0.022832</td>\n",
              "      <td>0.157336</td>\n",
              "      <td>0.208624</td>\n",
              "      <td>0.065732</td>\n",
              "      <td>0.061867</td>\n",
              "      <td>0.018061</td>\n",
              "    </tr>\n",
              "    <tr>\n",
              "      <th>min</th>\n",
              "      <td>6.981000</td>\n",
              "      <td>9.710000</td>\n",
              "      <td>43.790000</td>\n",
              "      <td>143.500000</td>\n",
              "      <td>0.052630</td>\n",
              "      <td>0.019380</td>\n",
              "      <td>0.000000</td>\n",
              "      <td>0.000000</td>\n",
              "      <td>0.106000</td>\n",
              "      <td>0.049960</td>\n",
              "      <td>0.111500</td>\n",
              "      <td>0.360200</td>\n",
              "      <td>0.757000</td>\n",
              "      <td>6.802000</td>\n",
              "      <td>0.001713</td>\n",
              "      <td>0.002252</td>\n",
              "      <td>0.000000</td>\n",
              "      <td>0.000000</td>\n",
              "      <td>0.007882</td>\n",
              "      <td>0.000895</td>\n",
              "      <td>7.930000</td>\n",
              "      <td>12.020000</td>\n",
              "      <td>50.410000</td>\n",
              "      <td>185.200000</td>\n",
              "      <td>0.071170</td>\n",
              "      <td>0.027290</td>\n",
              "      <td>0.000000</td>\n",
              "      <td>0.000000</td>\n",
              "      <td>0.156500</td>\n",
              "      <td>0.055040</td>\n",
              "    </tr>\n",
              "    <tr>\n",
              "      <th>25%</th>\n",
              "      <td>11.700000</td>\n",
              "      <td>16.170000</td>\n",
              "      <td>75.170000</td>\n",
              "      <td>420.300000</td>\n",
              "      <td>0.086370</td>\n",
              "      <td>0.064920</td>\n",
              "      <td>0.029560</td>\n",
              "      <td>0.020310</td>\n",
              "      <td>0.161900</td>\n",
              "      <td>0.057700</td>\n",
              "      <td>0.232400</td>\n",
              "      <td>0.833900</td>\n",
              "      <td>1.606000</td>\n",
              "      <td>17.850000</td>\n",
              "      <td>0.005169</td>\n",
              "      <td>0.013080</td>\n",
              "      <td>0.015090</td>\n",
              "      <td>0.007638</td>\n",
              "      <td>0.015160</td>\n",
              "      <td>0.002248</td>\n",
              "      <td>13.010000</td>\n",
              "      <td>21.080000</td>\n",
              "      <td>84.110000</td>\n",
              "      <td>515.300000</td>\n",
              "      <td>0.116600</td>\n",
              "      <td>0.147200</td>\n",
              "      <td>0.114500</td>\n",
              "      <td>0.064930</td>\n",
              "      <td>0.250400</td>\n",
              "      <td>0.071460</td>\n",
              "    </tr>\n",
              "    <tr>\n",
              "      <th>50%</th>\n",
              "      <td>13.370000</td>\n",
              "      <td>18.840000</td>\n",
              "      <td>86.240000</td>\n",
              "      <td>551.100000</td>\n",
              "      <td>0.095870</td>\n",
              "      <td>0.092630</td>\n",
              "      <td>0.061540</td>\n",
              "      <td>0.033500</td>\n",
              "      <td>0.179200</td>\n",
              "      <td>0.061540</td>\n",
              "      <td>0.324200</td>\n",
              "      <td>1.108000</td>\n",
              "      <td>2.287000</td>\n",
              "      <td>24.530000</td>\n",
              "      <td>0.006380</td>\n",
              "      <td>0.020450</td>\n",
              "      <td>0.025890</td>\n",
              "      <td>0.010930</td>\n",
              "      <td>0.018730</td>\n",
              "      <td>0.003187</td>\n",
              "      <td>14.970000</td>\n",
              "      <td>25.410000</td>\n",
              "      <td>97.660000</td>\n",
              "      <td>686.500000</td>\n",
              "      <td>0.131300</td>\n",
              "      <td>0.211900</td>\n",
              "      <td>0.226700</td>\n",
              "      <td>0.099930</td>\n",
              "      <td>0.282200</td>\n",
              "      <td>0.080040</td>\n",
              "    </tr>\n",
              "    <tr>\n",
              "      <th>75%</th>\n",
              "      <td>15.780000</td>\n",
              "      <td>21.800000</td>\n",
              "      <td>104.100000</td>\n",
              "      <td>782.700000</td>\n",
              "      <td>0.105300</td>\n",
              "      <td>0.130400</td>\n",
              "      <td>0.130700</td>\n",
              "      <td>0.074000</td>\n",
              "      <td>0.195700</td>\n",
              "      <td>0.066120</td>\n",
              "      <td>0.478900</td>\n",
              "      <td>1.474000</td>\n",
              "      <td>3.357000</td>\n",
              "      <td>45.190000</td>\n",
              "      <td>0.008146</td>\n",
              "      <td>0.032450</td>\n",
              "      <td>0.042050</td>\n",
              "      <td>0.014710</td>\n",
              "      <td>0.023480</td>\n",
              "      <td>0.004558</td>\n",
              "      <td>18.790000</td>\n",
              "      <td>29.720000</td>\n",
              "      <td>125.400000</td>\n",
              "      <td>1084.000000</td>\n",
              "      <td>0.146000</td>\n",
              "      <td>0.339100</td>\n",
              "      <td>0.382900</td>\n",
              "      <td>0.161400</td>\n",
              "      <td>0.317900</td>\n",
              "      <td>0.092080</td>\n",
              "    </tr>\n",
              "    <tr>\n",
              "      <th>max</th>\n",
              "      <td>28.110000</td>\n",
              "      <td>39.280000</td>\n",
              "      <td>188.500000</td>\n",
              "      <td>2501.000000</td>\n",
              "      <td>0.163400</td>\n",
              "      <td>0.345400</td>\n",
              "      <td>0.426800</td>\n",
              "      <td>0.201200</td>\n",
              "      <td>0.304000</td>\n",
              "      <td>0.097440</td>\n",
              "      <td>2.873000</td>\n",
              "      <td>4.885000</td>\n",
              "      <td>21.980000</td>\n",
              "      <td>542.200000</td>\n",
              "      <td>0.031130</td>\n",
              "      <td>0.135400</td>\n",
              "      <td>0.396000</td>\n",
              "      <td>0.052790</td>\n",
              "      <td>0.078950</td>\n",
              "      <td>0.029840</td>\n",
              "      <td>36.040000</td>\n",
              "      <td>49.540000</td>\n",
              "      <td>251.200000</td>\n",
              "      <td>4254.000000</td>\n",
              "      <td>0.222600</td>\n",
              "      <td>1.058000</td>\n",
              "      <td>1.252000</td>\n",
              "      <td>0.291000</td>\n",
              "      <td>0.663800</td>\n",
              "      <td>0.207500</td>\n",
              "    </tr>\n",
              "  </tbody>\n",
              "</table>\n",
              "</div>"
            ],
            "text/plain": [
              "       mean radius  mean texture  ...  worst symmetry  worst fractal dimension\n",
              "count   569.000000    569.000000  ...      569.000000               569.000000\n",
              "mean     14.127292     19.289649  ...        0.290076                 0.083946\n",
              "std       3.524049      4.301036  ...        0.061867                 0.018061\n",
              "min       6.981000      9.710000  ...        0.156500                 0.055040\n",
              "25%      11.700000     16.170000  ...        0.250400                 0.071460\n",
              "50%      13.370000     18.840000  ...        0.282200                 0.080040\n",
              "75%      15.780000     21.800000  ...        0.317900                 0.092080\n",
              "max      28.110000     39.280000  ...        0.663800                 0.207500\n",
              "\n",
              "[8 rows x 30 columns]"
            ]
          },
          "metadata": {
            "tags": []
          },
          "execution_count": 25
        }
      ]
    },
    {
      "cell_type": "code",
      "metadata": {
        "id": "Aawf25VE4xCX",
        "colab": {
          "base_uri": "https://localhost:8080/",
          "height": 103
        },
        "outputId": "3c2de5f3-c747-4c18-87e7-68834b409800"
      },
      "source": [
        "# check standard missing value - multiple column\n",
        "df[df.isnull().any(axis=1)]"
      ],
      "execution_count": null,
      "outputs": [
        {
          "output_type": "execute_result",
          "data": {
            "text/html": [
              "<div>\n",
              "<style scoped>\n",
              "    .dataframe tbody tr th:only-of-type {\n",
              "        vertical-align: middle;\n",
              "    }\n",
              "\n",
              "    .dataframe tbody tr th {\n",
              "        vertical-align: top;\n",
              "    }\n",
              "\n",
              "    .dataframe thead th {\n",
              "        text-align: right;\n",
              "    }\n",
              "</style>\n",
              "<table border=\"1\" class=\"dataframe\">\n",
              "  <thead>\n",
              "    <tr style=\"text-align: right;\">\n",
              "      <th></th>\n",
              "      <th>mean radius</th>\n",
              "      <th>mean texture</th>\n",
              "      <th>mean perimeter</th>\n",
              "      <th>mean area</th>\n",
              "      <th>mean smoothness</th>\n",
              "      <th>mean compactness</th>\n",
              "      <th>mean concavity</th>\n",
              "      <th>mean concave points</th>\n",
              "      <th>mean symmetry</th>\n",
              "      <th>mean fractal dimension</th>\n",
              "      <th>radius error</th>\n",
              "      <th>texture error</th>\n",
              "      <th>perimeter error</th>\n",
              "      <th>area error</th>\n",
              "      <th>smoothness error</th>\n",
              "      <th>compactness error</th>\n",
              "      <th>concavity error</th>\n",
              "      <th>concave points error</th>\n",
              "      <th>symmetry error</th>\n",
              "      <th>fractal dimension error</th>\n",
              "      <th>worst radius</th>\n",
              "      <th>worst texture</th>\n",
              "      <th>worst perimeter</th>\n",
              "      <th>worst area</th>\n",
              "      <th>worst smoothness</th>\n",
              "      <th>worst compactness</th>\n",
              "      <th>worst concavity</th>\n",
              "      <th>worst concave points</th>\n",
              "      <th>worst symmetry</th>\n",
              "      <th>worst fractal dimension</th>\n",
              "      <th>is_cancer</th>\n",
              "    </tr>\n",
              "  </thead>\n",
              "  <tbody>\n",
              "  </tbody>\n",
              "</table>\n",
              "</div>"
            ],
            "text/plain": [
              "Empty DataFrame\n",
              "Columns: [mean radius, mean texture, mean perimeter, mean area, mean smoothness, mean compactness, mean concavity, mean concave points, mean symmetry, mean fractal dimension, radius error, texture error, perimeter error, area error, smoothness error, compactness error, concavity error, concave points error, symmetry error, fractal dimension error, worst radius, worst texture, worst perimeter, worst area, worst smoothness, worst compactness, worst concavity, worst concave points, worst symmetry, worst fractal dimension, is_cancer]\n",
              "Index: []"
            ]
          },
          "metadata": {
            "tags": []
          },
          "execution_count": 26
        }
      ]
    },
    {
      "cell_type": "code",
      "metadata": {
        "id": "EZ3sg6VM5w4L",
        "colab": {
          "base_uri": "https://localhost:8080/",
          "height": 1000
        },
        "outputId": "1a4d1d27-72e6-496c-b872-4e4013406ac6"
      },
      "source": [
        "# check outlier using boxplot\n",
        "fig, axes = plt.subplots(nrows=6, ncols=5,figsize=(20,20))\n",
        "\n",
        "for i,el in enumerate(numeric_column):\n",
        "    a = df.boxplot(el, ax=axes.flatten()[i],grid=False)\n",
        "\n",
        "plt.show()"
      ],
      "execution_count": null,
      "outputs": [
        {
          "output_type": "display_data",
          "data": {
            "image/png": "[encoded data removed]",
            "text/plain": [
              "<Figure size 1440x1440 with 30 Axes>"
            ]
          },
          "metadata": {
            "tags": [],
            "needs_background": "light"
          }
        }
      ]
    },
    {
      "cell_type": "code",
      "metadata": {
        "id": "9t5xYaSI4xCZ",
        "colab": {
          "base_uri": "https://localhost:8080/"
        },
        "outputId": "d1331149-59a4-484d-f1d6-7acf97417525"
      },
      "source": [
        "# get IQR for each numeric column\n",
        "Q1 = df[numeric_column].quantile(0.25)\n",
        "Q3 = df[numeric_column].quantile(0.75)\n",
        "IQR = Q3 - Q1\n",
        "boxplot_min = Q1 - 1.5 * IQR\n",
        "boxplot_max = Q3 + 1.5 * IQR\n",
        "print('Q1:\\n',Q1)\n",
        "print('\\nQ3:\\n',Q3)\n",
        "print('\\nIQR:\\n',IQR)\n",
        "print('\\nMin:\\n',boxplot_min)\n",
        "print('\\nMax:\\n',boxplot_max)"
      ],
      "execution_count": null,
      "outputs": [
        {
          "output_type": "stream",
          "text": [
            "Q1:\n",
            " mean radius                 11.700000\n",
            "mean texture                16.170000\n",
            "mean perimeter              75.170000\n",
            "mean area                  420.300000\n",
            "mean smoothness              0.086370\n",
            "mean compactness             0.064920\n",
            "mean concavity               0.029560\n",
            "mean concave points          0.020310\n",
            "mean symmetry                0.161900\n",
            "mean fractal dimension       0.057700\n",
            "radius error                 0.232400\n",
            "texture error                0.833900\n",
            "perimeter error              1.606000\n",
            "area error                  17.850000\n",
            "smoothness error             0.005169\n",
            "compactness error            0.013080\n",
            "concavity error              0.015090\n",
            "concave points error         0.007638\n",
            "symmetry error               0.015160\n",
            "fractal dimension error      0.002248\n",
            "worst radius                13.010000\n",
            "worst texture               21.080000\n",
            "worst perimeter             84.110000\n",
            "worst area                 515.300000\n",
            "worst smoothness             0.116600\n",
            "worst compactness            0.147200\n",
            "worst concavity              0.114500\n",
            "worst concave points         0.064930\n",
            "worst symmetry               0.250400\n",
            "worst fractal dimension      0.071460\n",
            "Name: 0.25, dtype: float64\n",
            "\n",
            "Q3:\n",
            " mean radius                  15.780000\n",
            "mean texture                 21.800000\n",
            "mean perimeter              104.100000\n",
            "mean area                   782.700000\n",
            "mean smoothness               0.105300\n",
            "mean compactness              0.130400\n",
            "mean concavity                0.130700\n",
            "mean concave points           0.074000\n",
            "mean symmetry                 0.195700\n",
            "mean fractal dimension        0.066120\n",
            "radius error                  0.478900\n",
            "texture error                 1.474000\n",
            "perimeter error               3.357000\n",
            "area error                   45.190000\n",
            "smoothness error              0.008146\n",
            "compactness error             0.032450\n",
            "concavity error               0.042050\n",
            "concave points error          0.014710\n",
            "symmetry error                0.023480\n",
            "fractal dimension error       0.004558\n",
            "worst radius                 18.790000\n",
            "worst texture                29.720000\n",
            "worst perimeter             125.400000\n",
            "worst area                 1084.000000\n",
            "worst smoothness              0.146000\n",
            "worst compactness             0.339100\n",
            "worst concavity               0.382900\n",
            "worst concave points          0.161400\n",
            "worst symmetry                0.317900\n",
            "worst fractal dimension       0.092080\n",
            "Name: 0.75, dtype: float64\n",
            "\n",
            "IQR:\n",
            " mean radius                  4.080000\n",
            "mean texture                 5.630000\n",
            "mean perimeter              28.930000\n",
            "mean area                  362.400000\n",
            "mean smoothness              0.018930\n",
            "mean compactness             0.065480\n",
            "mean concavity               0.101140\n",
            "mean concave points          0.053690\n",
            "mean symmetry                0.033800\n",
            "mean fractal dimension       0.008420\n",
            "radius error                 0.246500\n",
            "texture error                0.640100\n",
            "perimeter error              1.751000\n",
            "area error                  27.340000\n",
            "smoothness error             0.002977\n",
            "compactness error            0.019370\n",
            "concavity error              0.026960\n",
            "concave points error         0.007072\n",
            "symmetry error               0.008320\n",
            "fractal dimension error      0.002310\n",
            "worst radius                 5.780000\n",
            "worst texture                8.640000\n",
            "worst perimeter             41.290000\n",
            "worst area                 568.700000\n",
            "worst smoothness             0.029400\n",
            "worst compactness            0.191900\n",
            "worst concavity              0.268400\n",
            "worst concave points         0.096470\n",
            "worst symmetry               0.067500\n",
            "worst fractal dimension      0.020620\n",
            "dtype: float64\n",
            "\n",
            "Min:\n",
            " mean radius                  5.580000\n",
            "mean texture                 7.725000\n",
            "mean perimeter              31.775000\n",
            "mean area                 -123.300000\n",
            "mean smoothness              0.057975\n",
            "mean compactness            -0.033300\n",
            "mean concavity              -0.122150\n",
            "mean concave points         -0.060225\n",
            "mean symmetry                0.111200\n",
            "mean fractal dimension       0.045070\n",
            "radius error                -0.137350\n",
            "texture error               -0.126250\n",
            "perimeter error             -1.020500\n",
            "area error                 -23.160000\n",
            "smoothness error             0.000703\n",
            "compactness error           -0.015975\n",
            "concavity error             -0.025350\n",
            "concave points error        -0.002970\n",
            "symmetry error               0.002680\n",
            "fractal dimension error     -0.001217\n",
            "worst radius                 4.340000\n",
            "worst texture                8.120000\n",
            "worst perimeter             22.175000\n",
            "worst area                -337.750000\n",
            "worst smoothness             0.072500\n",
            "worst compactness           -0.140650\n",
            "worst concavity             -0.288100\n",
            "worst concave points        -0.079775\n",
            "worst symmetry               0.149150\n",
            "worst fractal dimension      0.040530\n",
            "dtype: float64\n",
            "\n",
            "Max:\n",
            " mean radius                  21.900000\n",
            "mean texture                 30.245000\n",
            "mean perimeter              147.495000\n",
            "mean area                  1326.300000\n",
            "mean smoothness               0.133695\n",
            "mean compactness              0.228620\n",
            "mean concavity                0.282410\n",
            "mean concave points           0.154535\n",
            "mean symmetry                 0.246400\n",
            "mean fractal dimension        0.078750\n",
            "radius error                  0.848650\n",
            "texture error                 2.434150\n",
            "perimeter error               5.983500\n",
            "area error                   86.200000\n",
            "smoothness error              0.012612\n",
            "compactness error             0.061505\n",
            "concavity error               0.082490\n",
            "concave points error          0.025318\n",
            "symmetry error                0.035960\n",
            "fractal dimension error       0.008023\n",
            "worst radius                 27.460000\n",
            "worst texture                42.680000\n",
            "worst perimeter             187.335000\n",
            "worst area                 1937.050000\n",
            "worst smoothness              0.190100\n",
            "worst compactness             0.626950\n",
            "worst concavity               0.785500\n",
            "worst concave points          0.306105\n",
            "worst symmetry                0.419150\n",
            "worst fractal dimension       0.123010\n",
            "dtype: float64\n"
          ],
          "name": "stdout"
        }
      ]
    },
    {
      "cell_type": "code",
      "metadata": {
        "id": "K4cOCmVc4xCZ"
      },
      "source": [
        "# remove outlier\n",
        "non_outlier_df = df.copy()\n",
        "for x in numeric_column:\n",
        "  filter_min = non_outlier_df[x]<boxplot_min[x]\n",
        "  filter_max = non_outlier_df[x]>boxplot_max[x]\n",
        "  non_outlier_df = non_outlier_df[~(\n",
        "    filter_min|filter_max\n",
        "    )]"
      ],
      "execution_count": null,
      "outputs": []
    },
    {
      "cell_type": "code",
      "metadata": {
        "id": "d_CPX6LC4xCZ",
        "colab": {
          "base_uri": "https://localhost:8080/",
          "height": 258
        },
        "outputId": "0deb69a6-e5f4-4136-ad04-b83d7dda7170"
      },
      "source": [
        "non_outlier_df.head(5)"
      ],
      "execution_count": null,
      "outputs": [
        {
          "output_type": "execute_result",
          "data": {
            "text/html": [
              "<div>\n",
              "<style scoped>\n",
              "    .dataframe tbody tr th:only-of-type {\n",
              "        vertical-align: middle;\n",
              "    }\n",
              "\n",
              "    .dataframe tbody tr th {\n",
              "        vertical-align: top;\n",
              "    }\n",
              "\n",
              "    .dataframe thead th {\n",
              "        text-align: right;\n",
              "    }\n",
              "</style>\n",
              "<table border=\"1\" class=\"dataframe\">\n",
              "  <thead>\n",
              "    <tr style=\"text-align: right;\">\n",
              "      <th></th>\n",
              "      <th>mean radius</th>\n",
              "      <th>mean texture</th>\n",
              "      <th>mean perimeter</th>\n",
              "      <th>mean area</th>\n",
              "      <th>mean smoothness</th>\n",
              "      <th>mean compactness</th>\n",
              "      <th>mean concavity</th>\n",
              "      <th>mean concave points</th>\n",
              "      <th>mean symmetry</th>\n",
              "      <th>mean fractal dimension</th>\n",
              "      <th>radius error</th>\n",
              "      <th>texture error</th>\n",
              "      <th>perimeter error</th>\n",
              "      <th>area error</th>\n",
              "      <th>smoothness error</th>\n",
              "      <th>compactness error</th>\n",
              "      <th>concavity error</th>\n",
              "      <th>concave points error</th>\n",
              "      <th>symmetry error</th>\n",
              "      <th>fractal dimension error</th>\n",
              "      <th>worst radius</th>\n",
              "      <th>worst texture</th>\n",
              "      <th>worst perimeter</th>\n",
              "      <th>worst area</th>\n",
              "      <th>worst smoothness</th>\n",
              "      <th>worst compactness</th>\n",
              "      <th>worst concavity</th>\n",
              "      <th>worst concave points</th>\n",
              "      <th>worst symmetry</th>\n",
              "      <th>worst fractal dimension</th>\n",
              "      <th>is_cancer</th>\n",
              "    </tr>\n",
              "  </thead>\n",
              "  <tbody>\n",
              "    <tr>\n",
              "      <th>6</th>\n",
              "      <td>18.25</td>\n",
              "      <td>19.98</td>\n",
              "      <td>119.6</td>\n",
              "      <td>1040.0</td>\n",
              "      <td>0.09463</td>\n",
              "      <td>0.10900</td>\n",
              "      <td>0.11270</td>\n",
              "      <td>0.07400</td>\n",
              "      <td>0.1794</td>\n",
              "      <td>0.05742</td>\n",
              "      <td>0.4467</td>\n",
              "      <td>0.7732</td>\n",
              "      <td>3.180</td>\n",
              "      <td>53.91</td>\n",
              "      <td>0.004314</td>\n",
              "      <td>0.013820</td>\n",
              "      <td>0.02254</td>\n",
              "      <td>0.010390</td>\n",
              "      <td>0.01369</td>\n",
              "      <td>0.002179</td>\n",
              "      <td>22.88</td>\n",
              "      <td>27.66</td>\n",
              "      <td>153.2</td>\n",
              "      <td>1606.0</td>\n",
              "      <td>0.1442</td>\n",
              "      <td>0.2576</td>\n",
              "      <td>0.3784</td>\n",
              "      <td>0.19320</td>\n",
              "      <td>0.3063</td>\n",
              "      <td>0.08368</td>\n",
              "      <td>0.0</td>\n",
              "    </tr>\n",
              "    <tr>\n",
              "      <th>7</th>\n",
              "      <td>13.71</td>\n",
              "      <td>20.83</td>\n",
              "      <td>90.2</td>\n",
              "      <td>577.9</td>\n",
              "      <td>0.11890</td>\n",
              "      <td>0.16450</td>\n",
              "      <td>0.09366</td>\n",
              "      <td>0.05985</td>\n",
              "      <td>0.2196</td>\n",
              "      <td>0.07451</td>\n",
              "      <td>0.5835</td>\n",
              "      <td>1.3770</td>\n",
              "      <td>3.856</td>\n",
              "      <td>50.96</td>\n",
              "      <td>0.008805</td>\n",
              "      <td>0.030290</td>\n",
              "      <td>0.02488</td>\n",
              "      <td>0.014480</td>\n",
              "      <td>0.01486</td>\n",
              "      <td>0.005412</td>\n",
              "      <td>17.06</td>\n",
              "      <td>28.14</td>\n",
              "      <td>110.6</td>\n",
              "      <td>897.0</td>\n",
              "      <td>0.1654</td>\n",
              "      <td>0.3682</td>\n",
              "      <td>0.2678</td>\n",
              "      <td>0.15560</td>\n",
              "      <td>0.3196</td>\n",
              "      <td>0.11510</td>\n",
              "      <td>0.0</td>\n",
              "    </tr>\n",
              "    <tr>\n",
              "      <th>10</th>\n",
              "      <td>16.02</td>\n",
              "      <td>23.24</td>\n",
              "      <td>102.7</td>\n",
              "      <td>797.8</td>\n",
              "      <td>0.08206</td>\n",
              "      <td>0.06669</td>\n",
              "      <td>0.03299</td>\n",
              "      <td>0.03323</td>\n",
              "      <td>0.1528</td>\n",
              "      <td>0.05697</td>\n",
              "      <td>0.3795</td>\n",
              "      <td>1.1870</td>\n",
              "      <td>2.466</td>\n",
              "      <td>40.51</td>\n",
              "      <td>0.004029</td>\n",
              "      <td>0.009269</td>\n",
              "      <td>0.01101</td>\n",
              "      <td>0.007591</td>\n",
              "      <td>0.01460</td>\n",
              "      <td>0.003042</td>\n",
              "      <td>19.19</td>\n",
              "      <td>33.88</td>\n",
              "      <td>123.8</td>\n",
              "      <td>1150.0</td>\n",
              "      <td>0.1181</td>\n",
              "      <td>0.1551</td>\n",
              "      <td>0.1459</td>\n",
              "      <td>0.09975</td>\n",
              "      <td>0.2948</td>\n",
              "      <td>0.08452</td>\n",
              "      <td>0.0</td>\n",
              "    </tr>\n",
              "    <tr>\n",
              "      <th>11</th>\n",
              "      <td>15.78</td>\n",
              "      <td>17.89</td>\n",
              "      <td>103.6</td>\n",
              "      <td>781.0</td>\n",
              "      <td>0.09710</td>\n",
              "      <td>0.12920</td>\n",
              "      <td>0.09954</td>\n",
              "      <td>0.06606</td>\n",
              "      <td>0.1842</td>\n",
              "      <td>0.06082</td>\n",
              "      <td>0.5058</td>\n",
              "      <td>0.9849</td>\n",
              "      <td>3.564</td>\n",
              "      <td>54.16</td>\n",
              "      <td>0.005771</td>\n",
              "      <td>0.040610</td>\n",
              "      <td>0.02791</td>\n",
              "      <td>0.012820</td>\n",
              "      <td>0.02008</td>\n",
              "      <td>0.004144</td>\n",
              "      <td>20.42</td>\n",
              "      <td>27.28</td>\n",
              "      <td>136.5</td>\n",
              "      <td>1299.0</td>\n",
              "      <td>0.1396</td>\n",
              "      <td>0.5609</td>\n",
              "      <td>0.3965</td>\n",
              "      <td>0.18100</td>\n",
              "      <td>0.3792</td>\n",
              "      <td>0.10480</td>\n",
              "      <td>0.0</td>\n",
              "    </tr>\n",
              "    <tr>\n",
              "      <th>13</th>\n",
              "      <td>15.85</td>\n",
              "      <td>23.95</td>\n",
              "      <td>103.7</td>\n",
              "      <td>782.7</td>\n",
              "      <td>0.08401</td>\n",
              "      <td>0.10020</td>\n",
              "      <td>0.09938</td>\n",
              "      <td>0.05364</td>\n",
              "      <td>0.1847</td>\n",
              "      <td>0.05338</td>\n",
              "      <td>0.4033</td>\n",
              "      <td>1.0780</td>\n",
              "      <td>2.903</td>\n",
              "      <td>36.58</td>\n",
              "      <td>0.009769</td>\n",
              "      <td>0.031260</td>\n",
              "      <td>0.05051</td>\n",
              "      <td>0.019920</td>\n",
              "      <td>0.02981</td>\n",
              "      <td>0.003002</td>\n",
              "      <td>16.84</td>\n",
              "      <td>27.66</td>\n",
              "      <td>112.0</td>\n",
              "      <td>876.5</td>\n",
              "      <td>0.1131</td>\n",
              "      <td>0.1924</td>\n",
              "      <td>0.2322</td>\n",
              "      <td>0.11190</td>\n",
              "      <td>0.2809</td>\n",
              "      <td>0.06287</td>\n",
              "      <td>0.0</td>\n",
              "    </tr>\n",
              "  </tbody>\n",
              "</table>\n",
              "</div>"
            ],
            "text/plain": [
              "    mean radius  mean texture  ...  worst fractal dimension  is_cancer\n",
              "6         18.25         19.98  ...                  0.08368        0.0\n",
              "7         13.71         20.83  ...                  0.11510        0.0\n",
              "10        16.02         23.24  ...                  0.08452        0.0\n",
              "11        15.78         17.89  ...                  0.10480        0.0\n",
              "13        15.85         23.95  ...                  0.06287        0.0\n",
              "\n",
              "[5 rows x 31 columns]"
            ]
          },
          "metadata": {
            "tags": []
          },
          "execution_count": 30
        }
      ]
    },
    {
      "cell_type": "code",
      "metadata": {
        "id": "9IvOxLzU4xCa",
        "colab": {
          "base_uri": "https://localhost:8080/"
        },
        "outputId": "548634b2-999e-4bd2-e244-ee55e650a088"
      },
      "source": [
        "non_outlier_df.shape"
      ],
      "execution_count": null,
      "outputs": [
        {
          "output_type": "execute_result",
          "data": {
            "text/plain": [
              "(398, 31)"
            ]
          },
          "metadata": {
            "tags": []
          },
          "execution_count": 31
        }
      ]
    },
    {
      "cell_type": "code",
      "metadata": {
        "id": "D3BFtVdG7OrO"
      },
      "source": [
        "final_feature_column = ['mean radius', 'mean texture', 'mean perimeter', 'mean area',\n",
        "       'mean smoothness', 'mean compactness',\n",
        "       'mean concave points', 'mean symmetry', 'mean fractal dimension',\n",
        "       'radius error', 'texture error', 'perimeter error', 'area error',\n",
        "       'smoothness error', 'compactness error', 'concavity error',\n",
        "       'concave points error', 'symmetry error', 'fractal dimension error']\n",
        "target_column = ['is_cancer']\n",
        "final_column = final_feature_column+target_column"
      ],
      "execution_count": null,
      "outputs": []
    },
    {
      "cell_type": "code",
      "metadata": {
        "id": "gbRzDPOV7YxJ"
      },
      "source": [
        "# standardize the data\n",
        "scaler = preprocessing.StandardScaler()\n",
        "final_df = non_outlier_df[final_column].copy()\n",
        "final_df = pd.DataFrame(scaler.fit_transform(final_df[final_feature_column]),columns=final_feature_column)\n",
        "final_df['is_cancer'] = non_outlier_df['is_cancer'].to_numpy()"
      ],
      "execution_count": null,
      "outputs": []
    },
    {
      "cell_type": "code",
      "metadata": {
        "id": "QaGcYdTD4xCa",
        "colab": {
          "base_uri": "https://localhost:8080/"
        },
        "outputId": "c3b050b6-7cff-4ce1-a546-d607e59c75a0"
      },
      "source": [
        "final_df.shape"
      ],
      "execution_count": null,
      "outputs": [
        {
          "output_type": "execute_result",
          "data": {
            "text/plain": [
              "(398, 20)"
            ]
          },
          "metadata": {
            "tags": []
          },
          "execution_count": 34
        }
      ]
    },
    {
      "cell_type": "code",
      "metadata": {
        "id": "h0PQxVrf4xCa",
        "colab": {
          "base_uri": "https://localhost:8080/",
          "height": 413
        },
        "outputId": "1805b8d9-8766-4dc9-8c9d-068af6bd57b7"
      },
      "source": [
        "final_df.head(10)"
      ],
      "execution_count": null,
      "outputs": [
        {
          "output_type": "execute_result",
          "data": {
            "text/html": [
              "<div>\n",
              "<style scoped>\n",
              "    .dataframe tbody tr th:only-of-type {\n",
              "        vertical-align: middle;\n",
              "    }\n",
              "\n",
              "    .dataframe tbody tr th {\n",
              "        vertical-align: top;\n",
              "    }\n",
              "\n",
              "    .dataframe thead th {\n",
              "        text-align: right;\n",
              "    }\n",
              "</style>\n",
              "<table border=\"1\" class=\"dataframe\">\n",
              "  <thead>\n",
              "    <tr style=\"text-align: right;\">\n",
              "      <th></th>\n",
              "      <th>mean radius</th>\n",
              "      <th>mean texture</th>\n",
              "      <th>mean perimeter</th>\n",
              "      <th>mean area</th>\n",
              "      <th>mean smoothness</th>\n",
              "      <th>mean compactness</th>\n",
              "      <th>mean concave points</th>\n",
              "      <th>mean symmetry</th>\n",
              "      <th>mean fractal dimension</th>\n",
              "      <th>radius error</th>\n",
              "      <th>texture error</th>\n",
              "      <th>perimeter error</th>\n",
              "      <th>area error</th>\n",
              "      <th>smoothness error</th>\n",
              "      <th>compactness error</th>\n",
              "      <th>concavity error</th>\n",
              "      <th>concave points error</th>\n",
              "      <th>symmetry error</th>\n",
              "      <th>fractal dimension error</th>\n",
              "      <th>is_cancer</th>\n",
              "    </tr>\n",
              "  </thead>\n",
              "  <tbody>\n",
              "    <tr>\n",
              "      <th>0</th>\n",
              "      <td>1.964461</td>\n",
              "      <td>0.377377</td>\n",
              "      <td>1.973596</td>\n",
              "      <td>2.108920</td>\n",
              "      <td>0.112751</td>\n",
              "      <td>0.650915</td>\n",
              "      <td>1.488638</td>\n",
              "      <td>0.277054</td>\n",
              "      <td>-0.756789</td>\n",
              "      <td>1.096726</td>\n",
              "      <td>-0.767777</td>\n",
              "      <td>1.151088</td>\n",
              "      <td>1.763687</td>\n",
              "      <td>-1.041488</td>\n",
              "      <td>-0.553004</td>\n",
              "      <td>-0.097701</td>\n",
              "      <td>0.118967</td>\n",
              "      <td>-0.938850</td>\n",
              "      <td>-0.627520</td>\n",
              "      <td>0.0</td>\n",
              "    </tr>\n",
              "    <tr>\n",
              "      <th>1</th>\n",
              "      <td>0.134540</td>\n",
              "      <td>0.594978</td>\n",
              "      <td>0.225722</td>\n",
              "      <td>0.033027</td>\n",
              "      <td>2.126689</td>\n",
              "      <td>2.239566</td>\n",
              "      <td>0.935739</td>\n",
              "      <td>2.210386</td>\n",
              "      <td>2.655183</td>\n",
              "      <td>2.167679</td>\n",
              "      <td>0.684948</td>\n",
              "      <td>1.909090</td>\n",
              "      <td>1.573780</td>\n",
              "      <td>1.211921</td>\n",
              "      <td>0.998964</td>\n",
              "      <td>0.057374</td>\n",
              "      <td>1.133301</td>\n",
              "      <td>-0.716578</td>\n",
              "      <td>1.850387</td>\n",
              "      <td>0.0</td>\n",
              "    </tr>\n",
              "    <tr>\n",
              "      <th>2</th>\n",
              "      <td>1.065623</td>\n",
              "      <td>1.211941</td>\n",
              "      <td>0.968866</td>\n",
              "      <td>1.020884</td>\n",
              "      <td>-0.930314</td>\n",
              "      <td>-0.560180</td>\n",
              "      <td>-0.104415</td>\n",
              "      <td>-1.002217</td>\n",
              "      <td>-0.846630</td>\n",
              "      <td>0.570644</td>\n",
              "      <td>0.227813</td>\n",
              "      <td>0.350476</td>\n",
              "      <td>0.901060</td>\n",
              "      <td>-1.184490</td>\n",
              "      <td>-0.981844</td>\n",
              "      <td>-0.861810</td>\n",
              "      <td>-0.575194</td>\n",
              "      <td>-0.765972</td>\n",
              "      <td>0.033919</td>\n",
              "      <td>0.0</td>\n",
              "    </tr>\n",
              "    <tr>\n",
              "      <th>3</th>\n",
              "      <td>0.968887</td>\n",
              "      <td>-0.157666</td>\n",
              "      <td>1.022372</td>\n",
              "      <td>0.945414</td>\n",
              "      <td>0.317713</td>\n",
              "      <td>1.229127</td>\n",
              "      <td>1.178389</td>\n",
              "      <td>0.507899</td>\n",
              "      <td>-0.077988</td>\n",
              "      <td>1.559397</td>\n",
              "      <td>-0.258433</td>\n",
              "      <td>1.581669</td>\n",
              "      <td>1.779781</td>\n",
              "      <td>-0.310422</td>\n",
              "      <td>1.971417</td>\n",
              "      <td>0.258176</td>\n",
              "      <td>0.721616</td>\n",
              "      <td>0.275099</td>\n",
              "      <td>0.878539</td>\n",
              "      <td>0.0</td>\n",
              "    </tr>\n",
              "    <tr>\n",
              "      <th>4</th>\n",
              "      <td>0.997102</td>\n",
              "      <td>1.393701</td>\n",
              "      <td>1.028317</td>\n",
              "      <td>0.953051</td>\n",
              "      <td>-0.768502</td>\n",
              "      <td>0.399021</td>\n",
              "      <td>0.693088</td>\n",
              "      <td>0.531946</td>\n",
              "      <td>-1.563363</td>\n",
              "      <td>0.756965</td>\n",
              "      <td>-0.034437</td>\n",
              "      <td>0.840486</td>\n",
              "      <td>0.648065</td>\n",
              "      <td>1.695619</td>\n",
              "      <td>1.090367</td>\n",
              "      <td>1.755910</td>\n",
              "      <td>2.482440</td>\n",
              "      <td>2.123568</td>\n",
              "      <td>0.003262</td>\n",
              "      <td>0.0</td>\n",
              "    </tr>\n",
              "    <tr>\n",
              "      <th>5</th>\n",
              "      <td>0.525514</td>\n",
              "      <td>0.415777</td>\n",
              "      <td>0.495632</td>\n",
              "      <td>0.511907</td>\n",
              "      <td>0.447993</td>\n",
              "      <td>-0.408185</td>\n",
              "      <td>0.652061</td>\n",
              "      <td>-0.723278</td>\n",
              "      <td>-0.397423</td>\n",
              "      <td>1.300270</td>\n",
              "      <td>0.355330</td>\n",
              "      <td>1.167907</td>\n",
              "      <td>1.215854</td>\n",
              "      <td>-0.337016</td>\n",
              "      <td>-0.760310</td>\n",
              "      <td>-0.267356</td>\n",
              "      <td>0.292570</td>\n",
              "      <td>-0.860960</td>\n",
              "      <td>-0.699566</td>\n",
              "      <td>0.0</td>\n",
              "    </tr>\n",
              "    <tr>\n",
              "      <th>6</th>\n",
              "      <td>1.109961</td>\n",
              "      <td>0.556578</td>\n",
              "      <td>1.289904</td>\n",
              "      <td>1.025377</td>\n",
              "      <td>1.969026</td>\n",
              "      <td>3.318703</td>\n",
              "      <td>2.613973</td>\n",
              "      <td>2.056489</td>\n",
              "      <td>2.465518</td>\n",
              "      <td>2.055730</td>\n",
              "      <td>-0.046467</td>\n",
              "      <td>1.906847</td>\n",
              "      <td>1.781068</td>\n",
              "      <td>0.319288</td>\n",
              "      <td>0.501430</td>\n",
              "      <td>0.521274</td>\n",
              "      <td>0.758816</td>\n",
              "      <td>-0.330926</td>\n",
              "      <td>0.877006</td>\n",
              "      <td>0.0</td>\n",
              "    </tr>\n",
              "    <tr>\n",
              "      <th>7</th>\n",
              "      <td>0.066019</td>\n",
              "      <td>-1.061350</td>\n",
              "      <td>0.062824</td>\n",
              "      <td>-0.019083</td>\n",
              "      <td>0.374970</td>\n",
              "      <td>-0.142265</td>\n",
              "      <td>0.465286</td>\n",
              "      <td>0.714699</td>\n",
              "      <td>-0.708873</td>\n",
              "      <td>-0.287371</td>\n",
              "      <td>-0.730725</td>\n",
              "      <td>-0.107016</td>\n",
              "      <td>-0.190099</td>\n",
              "      <td>1.039817</td>\n",
              "      <td>-0.479504</td>\n",
              "      <td>-0.009560</td>\n",
              "      <td>0.803457</td>\n",
              "      <td>0.221905</td>\n",
              "      <td>-0.534781</td>\n",
              "      <td>1.0</td>\n",
              "    </tr>\n",
              "    <tr>\n",
              "      <th>8</th>\n",
              "      <td>-0.119392</td>\n",
              "      <td>-0.715749</td>\n",
              "      <td>-0.045972</td>\n",
              "      <td>-0.227077</td>\n",
              "      <td>1.180711</td>\n",
              "      <td>1.166153</td>\n",
              "      <td>-0.187643</td>\n",
              "      <td>1.109060</td>\n",
              "      <td>1.377441</td>\n",
              "      <td>-0.950453</td>\n",
              "      <td>-0.829129</td>\n",
              "      <td>-0.863897</td>\n",
              "      <td>-0.762394</td>\n",
              "      <td>-1.150371</td>\n",
              "      <td>-0.066777</td>\n",
              "      <td>-0.466170</td>\n",
              "      <td>-0.848246</td>\n",
              "      <td>-0.351823</td>\n",
              "      <td>-0.438976</td>\n",
              "      <td>1.0</td>\n",
              "    </tr>\n",
              "    <tr>\n",
              "      <th>9</th>\n",
              "      <td>-1.560757</td>\n",
              "      <td>-1.552872</td>\n",
              "      <td>-1.549501</td>\n",
              "      <td>-1.332632</td>\n",
              "      <td>0.757510</td>\n",
              "      <td>-0.610845</td>\n",
              "      <td>-0.591669</td>\n",
              "      <td>0.378049</td>\n",
              "      <td>1.565109</td>\n",
              "      <td>-0.229439</td>\n",
              "      <td>-0.277922</td>\n",
              "      <td>-0.274091</td>\n",
              "      <td>-0.696088</td>\n",
              "      <td>1.613831</td>\n",
              "      <td>-0.505889</td>\n",
              "      <td>-0.275971</td>\n",
              "      <td>1.066341</td>\n",
              "      <td>0.311194</td>\n",
              "      <td>-0.022797</td>\n",
              "      <td>1.0</td>\n",
              "    </tr>\n",
              "  </tbody>\n",
              "</table>\n",
              "</div>"
            ],
            "text/plain": [
              "   mean radius  mean texture  ...  fractal dimension error  is_cancer\n",
              "0     1.964461      0.377377  ...                -0.627520        0.0\n",
              "1     0.134540      0.594978  ...                 1.850387        0.0\n",
              "2     1.065623      1.211941  ...                 0.033919        0.0\n",
              "3     0.968887     -0.157666  ...                 0.878539        0.0\n",
              "4     0.997102      1.393701  ...                 0.003262        0.0\n",
              "5     0.525514      0.415777  ...                -0.699566        0.0\n",
              "6     1.109961      0.556578  ...                 0.877006        0.0\n",
              "7     0.066019     -1.061350  ...                -0.534781        1.0\n",
              "8    -0.119392     -0.715749  ...                -0.438976        1.0\n",
              "9    -1.560757     -1.552872  ...                -0.022797        1.0\n",
              "\n",
              "[10 rows x 20 columns]"
            ]
          },
          "metadata": {
            "tags": []
          },
          "execution_count": 35
        }
      ]
    },
    {
      "cell_type": "code",
      "metadata": {
        "id": "REYOQsm94xCb"
      },
      "source": [
        "# prepare the data to numpy array\n",
        "final_feature_array = final_df[final_feature_column].to_numpy()\n",
        "target_array = final_df[target_column].to_numpy()"
      ],
      "execution_count": null,
      "outputs": []
    },
    {
      "cell_type": "code",
      "metadata": {
        "id": "o-7uxvdc4xCb",
        "colab": {
          "base_uri": "https://localhost:8080/"
        },
        "outputId": "9c22e31c-e52b-409f-87d9-682df920ecda"
      },
      "source": [
        "print('shape of final feature:',final_feature_array.shape)\n",
        "print('shape of target:',target_array.shape)"
      ],
      "execution_count": null,
      "outputs": [
        {
          "output_type": "stream",
          "text": [
            "shape of final feature: (398, 19)\n",
            "shape of target: (398, 1)\n"
          ],
          "name": "stdout"
        }
      ]
    },
    {
      "cell_type": "markdown",
      "metadata": {
        "id": "MQsmAw3559B9"
      },
      "source": [
        "# **PCA**"
      ]
    },
    {
      "cell_type": "markdown",
      "metadata": {
        "id": "0aVjdVoA9ONY"
      },
      "source": [
        "![image.png]()![image.png](data:image/png;base64,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)"
      ]
    },
    {
      "cell_type": "code",
      "metadata": {
        "id": "n8FGd9gy9UX_"
      },
      "source": [
        "# load the algorithm\n",
        "pca_model = decomposition.PCA(n_components=2)"
      ],
      "execution_count": null,
      "outputs": []
    },
    {
      "cell_type": "code",
      "metadata": {
        "id": "Qwm3QChW9dgM"
      },
      "source": [
        "# train the data and transform\n",
        "pca_feature_array = pca_model.fit_transform(final_feature_array)"
      ],
      "execution_count": null,
      "outputs": []
    },
    {
      "cell_type": "code",
      "metadata": {
        "id": "g9zl8r5wA_kd",
        "colab": {
          "base_uri": "https://localhost:8080/"
        },
        "outputId": "557b51c8-a45d-4d26-be8b-e1ad913675d0"
      },
      "source": [
        "# check the shape of the result\n",
        "pca_feature_array.shape"
      ],
      "execution_count": null,
      "outputs": [
        {
          "output_type": "execute_result",
          "data": {
            "text/plain": [
              "(398, 2)"
            ]
          },
          "metadata": {
            "tags": []
          },
          "execution_count": 40
        }
      ]
    },
    {
      "cell_type": "code",
      "metadata": {
        "id": "2mOX1Qv9-Dph"
      },
      "source": [
        "# add new name for the new column\n",
        "pca_column = ['pca column 1','pca column 2']"
      ],
      "execution_count": null,
      "outputs": []
    },
    {
      "cell_type": "code",
      "metadata": {
        "id": "XAFz_EgV9pIs"
      },
      "source": [
        "# transform to dataframe\n",
        "pca_feature_df = pd.DataFrame(pca_feature_array,columns=pca_column)\n",
        "pca_feature_df['is_cancer'] = target_array"
      ],
      "execution_count": null,
      "outputs": []
    },
    {
      "cell_type": "code",
      "metadata": {
        "id": "0oipFKce-MEf",
        "colab": {
          "base_uri": "https://localhost:8080/",
          "height": 204
        },
        "outputId": "7cfe269b-3215-4896-8493-61414af37753"
      },
      "source": [
        "# check the resulted data\n",
        "pca_feature_df.head(5)"
      ],
      "execution_count": null,
      "outputs": [
        {
          "output_type": "execute_result",
          "data": {
            "text/html": [
              "<div>\n",
              "<style scoped>\n",
              "    .dataframe tbody tr th:only-of-type {\n",
              "        vertical-align: middle;\n",
              "    }\n",
              "\n",
              "    .dataframe tbody tr th {\n",
              "        vertical-align: top;\n",
              "    }\n",
              "\n",
              "    .dataframe thead th {\n",
              "        text-align: right;\n",
              "    }\n",
              "</style>\n",
              "<table border=\"1\" class=\"dataframe\">\n",
              "  <thead>\n",
              "    <tr style=\"text-align: right;\">\n",
              "      <th></th>\n",
              "      <th>pca column 1</th>\n",
              "      <th>pca column 2</th>\n",
              "      <th>is_cancer</th>\n",
              "    </tr>\n",
              "  </thead>\n",
              "  <tbody>\n",
              "    <tr>\n",
              "      <th>0</th>\n",
              "      <td>3.367265</td>\n",
              "      <td>-3.472116</td>\n",
              "      <td>0.0</td>\n",
              "    </tr>\n",
              "    <tr>\n",
              "      <th>1</th>\n",
              "      <td>4.533983</td>\n",
              "      <td>3.012485</td>\n",
              "      <td>0.0</td>\n",
              "    </tr>\n",
              "    <tr>\n",
              "      <th>2</th>\n",
              "      <td>0.403454</td>\n",
              "      <td>-2.927444</td>\n",
              "      <td>0.0</td>\n",
              "    </tr>\n",
              "    <tr>\n",
              "      <th>3</th>\n",
              "      <td>4.006280</td>\n",
              "      <td>-0.137489</td>\n",
              "      <td>0.0</td>\n",
              "    </tr>\n",
              "    <tr>\n",
              "      <th>4</th>\n",
              "      <td>3.470722</td>\n",
              "      <td>0.335837</td>\n",
              "      <td>0.0</td>\n",
              "    </tr>\n",
              "  </tbody>\n",
              "</table>\n",
              "</div>"
            ],
            "text/plain": [
              "   pca column 1  pca column 2  is_cancer\n",
              "0      3.367265     -3.472116        0.0\n",
              "1      4.533983      3.012485        0.0\n",
              "2      0.403454     -2.927444        0.0\n",
              "3      4.006280     -0.137489        0.0\n",
              "4      3.470722      0.335837        0.0"
            ]
          },
          "metadata": {
            "tags": []
          },
          "execution_count": 43
        }
      ]
    },
    {
      "cell_type": "code",
      "metadata": {
        "id": "hSapQc01-SsY",
        "colab": {
          "base_uri": "https://localhost:8080/"
        },
        "outputId": "1f13a813-602a-47e2-ccc3-6d1cf0966a38"
      },
      "source": [
        "# check the explained variance\n",
        "print('explained variance:',pca_model.explained_variance_ratio_)"
      ],
      "execution_count": null,
      "outputs": [
        {
          "output_type": "stream",
          "text": [
            "explained variance: [0.38108349 0.21797643]\n"
          ],
          "name": "stdout"
        }
      ]
    },
    {
      "cell_type": "code",
      "metadata": {
        "id": "YiE01uVjG_P6",
        "colab": {
          "base_uri": "https://localhost:8080/",
          "height": 275
        },
        "outputId": "426850e3-5835-4c51-b5ec-f8c685d8f537"
      },
      "source": [
        "# show in 2D plot\n",
        "pca_feature_df.plot.scatter(x='pca column 1',y='pca column 2',c='is_cancer',colormap='viridis')"
      ],
      "execution_count": null,
      "outputs": [
        {
          "output_type": "execute_result",
          "data": {
            "text/plain": [
              "<matplotlib.axes._subplots.AxesSubplot at 0x7f70997d0950>"
            ]
          },
          "metadata": {
            "tags": []
          },
          "execution_count": 48
        },
        {
          "output_type": "display_data",
          "data": {
            "image/png": "[encoded data removed]",
            "text/plain": [
              "<Figure size 432x288 with 2 Axes>"
            ]
          },
          "metadata": {
            "tags": [],
            "needs_background": "light"
          }
        }
      ]
    },
    {
      "cell_type": "code",
      "metadata": {
        "id": "U3PgyI12YXcK",
        "colab": {
          "base_uri": "https://localhost:8080/",
          "height": 296
        },
        "outputId": "c5aa8694-7d7e-43bb-d702-fc00c96a5231"
      },
      "source": [
        "# show in 2D plot\n",
        "pca_feature_df.plot.scatter(x='pca column 1',y='pca column 2')"
      ],
      "execution_count": null,
      "outputs": [
        {
          "output_type": "execute_result",
          "data": {
            "text/plain": [
              "<matplotlib.axes._subplots.AxesSubplot at 0x7f709997b090>"
            ]
          },
          "metadata": {
            "tags": []
          },
          "execution_count": 46
        },
        {
          "output_type": "display_data",
          "data": {
            "image/png": "[encoded data removed]",
            "text/plain": [
              "<Figure size 432x288 with 1 Axes>"
            ]
          },
          "metadata": {
            "tags": [],
            "needs_background": "light"
          }
        }
      ]
    },
    {
      "cell_type": "code",
      "metadata": {
        "id": "ZpCDAGhoLghP",
        "colab": {
          "base_uri": "https://localhost:8080/"
        },
        "outputId": "9861c29f-0d2d-4399-e1be-5124cd2f7342"
      },
      "source": [
        "# check explained variance for each number of component\n",
        "for x in range(1,len(final_feature_column)+1):\n",
        "  pca_model_x = decomposition.PCA(n_components=x)\n",
        "  pca_feature_array_x = pca_model_x.fit_transform(final_feature_array)\n",
        "  print('explained variance for {} column: {}'.format(x,np.sum(pca_model_x.explained_variance_ratio_)))"
      ],
      "execution_count": null,
      "outputs": [
        {
          "output_type": "stream",
          "text": [
            "explained variance for 1 column: 0.3810834873083292\n",
            "explained variance for 2 column: 0.5990599216146028\n",
            "explained variance for 3 column: 0.7046797832990307\n",
            "explained variance for 4 column: 0.7821175317513346\n",
            "explained variance for 5 column: 0.8346727797091227\n",
            "explained variance for 6 column: 0.8745481141867044\n",
            "explained variance for 7 column: 0.9071329541415311\n",
            "explained variance for 8 column: 0.9286360382632614\n",
            "explained variance for 9 column: 0.9486818638644995\n",
            "explained variance for 10 column: 0.9646296089232673\n",
            "explained variance for 11 column: 0.9755804768852196\n",
            "explained variance for 12 column: 0.9832232944899307\n",
            "explained variance for 13 column: 0.9904272447850684\n",
            "explained variance for 14 column: 0.9945876054752064\n",
            "explained variance for 15 column: 0.9969704377322012\n",
            "explained variance for 16 column: 0.9989909469385947\n",
            "explained variance for 17 column: 0.9997299088691797\n",
            "explained variance for 18 column: 0.9999916503094293\n",
            "explained variance for 19 column: 1.0000000000000002\n"
          ],
          "name": "stdout"
        }
      ]
    },
    {
      "cell_type": "markdown",
      "metadata": {
        "id": "67pAQ4JjOkoP"
      },
      "source": [
        "# **Clustering**"
      ]
    },
    {
      "cell_type": "markdown",
      "metadata": {
        "id": "caLG_8gC9m-V"
      },
      "source": [
        "![image.png](data:image/png;base64,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)"
      ]
    },
    {
      "cell_type": "code",
      "metadata": {
        "id": "Wc17jPyFOkon"
      },
      "source": [
        "# load the algorithm\n",
        "cluster_model = cluster.KMeans(n_clusters=2)"
      ],
      "execution_count": null,
      "outputs": []
    },
    {
      "cell_type": "code",
      "metadata": {
        "id": "z3weSeV9Okoo"
      },
      "source": [
        "# train the data\n",
        "cluster_array = cluster_model.fit(final_feature_array)"
      ],
      "execution_count": null,
      "outputs": []
    },
    {
      "cell_type": "code",
      "metadata": {
        "id": "Iso2rcPRP6Ou"
      },
      "source": [
        "# label result\n",
        "cluster_label = cluster_model.labels_"
      ],
      "execution_count": null,
      "outputs": []
    },
    {
      "cell_type": "code",
      "metadata": {
        "id": "kNZxMflqQQvr",
        "colab": {
          "base_uri": "https://localhost:8080/"
        },
        "outputId": "cf8e3702-01e1-484f-e2c8-81757fd2e023"
      },
      "source": [
        "cluster_label"
      ],
      "execution_count": null,
      "outputs": [
        {
          "output_type": "execute_result",
          "data": {
            "text/plain": [
              "array([1, 1, 0, 1, 1, 1, 1, 0, 0, 0, 1, 1, 1, 1, 0, 0, 0, 1, 0, 1, 0, 1,\n",
              "       0, 0, 0, 0, 0, 0, 0, 1, 0, 0, 0, 1, 1, 0, 0, 0, 0, 0, 1, 0, 0, 1,\n",
              "       0, 1, 1, 1, 0, 1, 0, 1, 0, 0, 1, 0, 0, 0, 1, 1, 0, 0, 0, 0, 0, 0,\n",
              "       0, 1, 0, 0, 1, 0, 0, 0, 0, 0, 1, 1, 1, 0, 1, 1, 0, 1, 0, 0, 1, 0,\n",
              "       1, 0, 0, 0, 0, 0, 0, 0, 0, 1, 0, 0, 1, 0, 0, 0, 1, 0, 0, 0, 1, 0,\n",
              "       0, 1, 0, 0, 1, 0, 0, 0, 0, 0, 0, 1, 1, 1, 0, 1, 1, 0, 1, 0, 0, 0,\n",
              "       1, 0, 0, 0, 1, 1, 0, 0, 0, 0, 1, 0, 1, 0, 0, 0, 1, 0, 1, 0, 0, 1,\n",
              "       1, 0, 0, 0, 1, 0, 1, 0, 0, 0, 1, 1, 1, 0, 0, 1, 1, 0, 0, 1, 0, 0,\n",
              "       1, 0, 1, 0, 0, 1, 0, 1, 1, 1, 0, 1, 0, 0, 0, 0, 0, 0, 0, 0, 1, 0,\n",
              "       0, 1, 0, 0, 0, 0, 0, 0, 0, 0, 0, 0, 0, 0, 0, 1, 0, 1, 1, 0, 0, 0,\n",
              "       0, 0, 1, 1, 0, 0, 0, 0, 0, 1, 0, 0, 0, 0, 0, 0, 0, 0, 1, 0, 1, 1,\n",
              "       0, 0, 0, 0, 0, 0, 1, 0, 1, 0, 0, 0, 0, 0, 0, 0, 0, 0, 1, 0, 1, 0,\n",
              "       0, 0, 1, 0, 0, 0, 1, 0, 0, 0, 0, 0, 0, 0, 0, 1, 1, 0, 0, 0, 0, 1,\n",
              "       1, 0, 0, 0, 0, 1, 0, 0, 0, 0, 0, 0, 0, 1, 1, 0, 0, 0, 0, 0, 0, 1,\n",
              "       1, 0, 1, 0, 1, 0, 0, 1, 0, 0, 0, 0, 0, 0, 0, 0, 0, 0, 0, 0, 0, 0,\n",
              "       0, 0, 1, 0, 0, 1, 0, 0, 0, 0, 0, 0, 1, 0, 0, 0, 0, 0, 0, 0, 0, 1,\n",
              "       1, 1, 0, 0, 0, 1, 0, 0, 1, 0, 0, 0, 1, 1, 1, 0, 0, 0, 0, 0, 0, 0,\n",
              "       0, 0, 0, 0, 0, 1, 1, 1, 0, 0, 0, 0, 0, 0, 0, 0, 0, 0, 0, 0, 0, 1,\n",
              "       1, 1], dtype=int32)"
            ]
          },
          "metadata": {
            "tags": []
          },
          "execution_count": 54
        }
      ]
    },
    {
      "cell_type": "code",
      "metadata": {
        "id": "6PHhjHtZOkoz"
      },
      "source": [
        "# add label to final dataframe\n",
        "final_df['cluster'] = cluster_label"
      ],
      "execution_count": null,
      "outputs": []
    },
    {
      "cell_type": "code",
      "metadata": {
        "id": "W5Rf2RGdOkoz",
        "colab": {
          "base_uri": "https://localhost:8080/",
          "height": 258
        },
        "outputId": "7aa0af80-3176-4220-b3d1-e3205e0a0429"
      },
      "source": [
        "# check the resulted data\n",
        "final_df.head(5)"
      ],
      "execution_count": null,
      "outputs": [
        {
          "output_type": "execute_result",
          "data": {
            "text/html": [
              "<div>\n",
              "<style scoped>\n",
              "    .dataframe tbody tr th:only-of-type {\n",
              "        vertical-align: middle;\n",
              "    }\n",
              "\n",
              "    .dataframe tbody tr th {\n",
              "        vertical-align: top;\n",
              "    }\n",
              "\n",
              "    .dataframe thead th {\n",
              "        text-align: right;\n",
              "    }\n",
              "</style>\n",
              "<table border=\"1\" class=\"dataframe\">\n",
              "  <thead>\n",
              "    <tr style=\"text-align: right;\">\n",
              "      <th></th>\n",
              "      <th>mean radius</th>\n",
              "      <th>mean texture</th>\n",
              "      <th>mean perimeter</th>\n",
              "      <th>mean area</th>\n",
              "      <th>mean smoothness</th>\n",
              "      <th>mean compactness</th>\n",
              "      <th>mean concave points</th>\n",
              "      <th>mean symmetry</th>\n",
              "      <th>mean fractal dimension</th>\n",
              "      <th>radius error</th>\n",
              "      <th>texture error</th>\n",
              "      <th>perimeter error</th>\n",
              "      <th>area error</th>\n",
              "      <th>smoothness error</th>\n",
              "      <th>compactness error</th>\n",
              "      <th>concavity error</th>\n",
              "      <th>concave points error</th>\n",
              "      <th>symmetry error</th>\n",
              "      <th>fractal dimension error</th>\n",
              "      <th>is_cancer</th>\n",
              "      <th>cluster</th>\n",
              "    </tr>\n",
              "  </thead>\n",
              "  <tbody>\n",
              "    <tr>\n",
              "      <th>0</th>\n",
              "      <td>1.964461</td>\n",
              "      <td>0.377377</td>\n",
              "      <td>1.973596</td>\n",
              "      <td>2.108920</td>\n",
              "      <td>0.112751</td>\n",
              "      <td>0.650915</td>\n",
              "      <td>1.488638</td>\n",
              "      <td>0.277054</td>\n",
              "      <td>-0.756789</td>\n",
              "      <td>1.096726</td>\n",
              "      <td>-0.767777</td>\n",
              "      <td>1.151088</td>\n",
              "      <td>1.763687</td>\n",
              "      <td>-1.041488</td>\n",
              "      <td>-0.553004</td>\n",
              "      <td>-0.097701</td>\n",
              "      <td>0.118967</td>\n",
              "      <td>-0.938850</td>\n",
              "      <td>-0.627520</td>\n",
              "      <td>0.0</td>\n",
              "      <td>1</td>\n",
              "    </tr>\n",
              "    <tr>\n",
              "      <th>1</th>\n",
              "      <td>0.134540</td>\n",
              "      <td>0.594978</td>\n",
              "      <td>0.225722</td>\n",
              "      <td>0.033027</td>\n",
              "      <td>2.126689</td>\n",
              "      <td>2.239566</td>\n",
              "      <td>0.935739</td>\n",
              "      <td>2.210386</td>\n",
              "      <td>2.655183</td>\n",
              "      <td>2.167679</td>\n",
              "      <td>0.684948</td>\n",
              "      <td>1.909090</td>\n",
              "      <td>1.573780</td>\n",
              "      <td>1.211921</td>\n",
              "      <td>0.998964</td>\n",
              "      <td>0.057374</td>\n",
              "      <td>1.133301</td>\n",
              "      <td>-0.716578</td>\n",
              "      <td>1.850387</td>\n",
              "      <td>0.0</td>\n",
              "      <td>1</td>\n",
              "    </tr>\n",
              "    <tr>\n",
              "      <th>2</th>\n",
              "      <td>1.065623</td>\n",
              "      <td>1.211941</td>\n",
              "      <td>0.968866</td>\n",
              "      <td>1.020884</td>\n",
              "      <td>-0.930314</td>\n",
              "      <td>-0.560180</td>\n",
              "      <td>-0.104415</td>\n",
              "      <td>-1.002217</td>\n",
              "      <td>-0.846630</td>\n",
              "      <td>0.570644</td>\n",
              "      <td>0.227813</td>\n",
              "      <td>0.350476</td>\n",
              "      <td>0.901060</td>\n",
              "      <td>-1.184490</td>\n",
              "      <td>-0.981844</td>\n",
              "      <td>-0.861810</td>\n",
              "      <td>-0.575194</td>\n",
              "      <td>-0.765972</td>\n",
              "      <td>0.033919</td>\n",
              "      <td>0.0</td>\n",
              "      <td>0</td>\n",
              "    </tr>\n",
              "    <tr>\n",
              "      <th>3</th>\n",
              "      <td>0.968887</td>\n",
              "      <td>-0.157666</td>\n",
              "      <td>1.022372</td>\n",
              "      <td>0.945414</td>\n",
              "      <td>0.317713</td>\n",
              "      <td>1.229127</td>\n",
              "      <td>1.178389</td>\n",
              "      <td>0.507899</td>\n",
              "      <td>-0.077988</td>\n",
              "      <td>1.559397</td>\n",
              "      <td>-0.258433</td>\n",
              "      <td>1.581669</td>\n",
              "      <td>1.779781</td>\n",
              "      <td>-0.310422</td>\n",
              "      <td>1.971417</td>\n",
              "      <td>0.258176</td>\n",
              "      <td>0.721616</td>\n",
              "      <td>0.275099</td>\n",
              "      <td>0.878539</td>\n",
              "      <td>0.0</td>\n",
              "      <td>1</td>\n",
              "    </tr>\n",
              "    <tr>\n",
              "      <th>4</th>\n",
              "      <td>0.997102</td>\n",
              "      <td>1.393701</td>\n",
              "      <td>1.028317</td>\n",
              "      <td>0.953051</td>\n",
              "      <td>-0.768502</td>\n",
              "      <td>0.399021</td>\n",
              "      <td>0.693088</td>\n",
              "      <td>0.531946</td>\n",
              "      <td>-1.563363</td>\n",
              "      <td>0.756965</td>\n",
              "      <td>-0.034437</td>\n",
              "      <td>0.840486</td>\n",
              "      <td>0.648065</td>\n",
              "      <td>1.695619</td>\n",
              "      <td>1.090367</td>\n",
              "      <td>1.755910</td>\n",
              "      <td>2.482440</td>\n",
              "      <td>2.123568</td>\n",
              "      <td>0.003262</td>\n",
              "      <td>0.0</td>\n",
              "      <td>1</td>\n",
              "    </tr>\n",
              "  </tbody>\n",
              "</table>\n",
              "</div>"
            ],
            "text/plain": [
              "   mean radius  mean texture  ...  is_cancer  cluster\n",
              "0     1.964461      0.377377  ...        0.0        1\n",
              "1     0.134540      0.594978  ...        0.0        1\n",
              "2     1.065623      1.211941  ...        0.0        0\n",
              "3     0.968887     -0.157666  ...        0.0        1\n",
              "4     0.997102      1.393701  ...        0.0        1\n",
              "\n",
              "[5 rows x 21 columns]"
            ]
          },
          "metadata": {
            "tags": []
          },
          "execution_count": 56
        }
      ]
    },
    {
      "cell_type": "code",
      "metadata": {
        "id": "4SixDTPxmOFZ",
        "colab": {
          "base_uri": "https://localhost:8080/"
        },
        "outputId": "1455d58b-f63a-413b-ca8a-1c54b8ff275b"
      },
      "source": [
        "# check using elbow method to define the best cluster [numbers]\n",
        "for x in range(1, 30):\n",
        "  cluster_model = cluster.KMeans(n_clusters=x)\n",
        "  cluster_array = cluster_model.fit(final_feature_array)\n",
        "  print(cluster_model.inertia_)"
      ],
      "execution_count": null,
      "outputs": [
        {
          "output_type": "stream",
          "text": [
            "7562.000000000001\n",
            "5581.746651048403\n",
            "4706.337435676232\n",
            "4279.884848700728\n",
            "3972.993774896375\n",
            "3767.0356998273155\n",
            "3533.290186157607\n",
            "3408.695143619701\n",
            "3270.253665594451\n",
            "3174.0209637801736\n",
            "3088.776271651202\n",
            "3024.6545190124307\n",
            "2940.831834643088\n",
            "2883.4564557853782\n",
            "2811.7034947967304\n",
            "2746.627357258945\n",
            "2714.4700198604532\n",
            "2633.1791244602464\n",
            "2588.8585087387064\n",
            "2574.7526028806087\n",
            "2526.611732359141\n",
            "2488.600802469379\n",
            "2440.353951675852\n",
            "2397.365297808963\n",
            "2393.2264682991263\n",
            "2327.1468904300027\n",
            "2313.582217009267\n",
            "2282.4705345685975\n",
            "2236.9137949676415\n"
          ],
          "name": "stdout"
        }
      ]
    },
    {
      "cell_type": "code",
      "metadata": {
        "id": "y9GGbjIPQx_t",
        "colab": {
          "base_uri": "https://localhost:8080/",
          "height": 295
        },
        "outputId": "c2eb5e36-fabe-424d-8353-94f9cc02dd4c"
      },
      "source": [
        "# check using elbow method to define the best cluster [graph]\n",
        "skplt.cluster.plot_elbow_curve(cluster_model, final_feature_array, cluster_ranges=range(1, 30))\n",
        "plt.show()"
      ],
      "execution_count": null,
      "outputs": [
        {
          "output_type": "display_data",
          "data": {
            "image/png": "[encoded data removed]",
            "text/plain": [
              "<Figure size 432x288 with 2 Axes>"
            ]
          },
          "metadata": {
            "tags": [],
            "needs_background": "light"
          }
        }
      ]
    },
    {
      "cell_type": "code",
      "metadata": {
        "id": "QlWZJWpMQx2e",
        "colab": {
          "base_uri": "https://localhost:8080/",
          "height": 275
        },
        "outputId": "f65664e8-b835-48b1-e275-f645db37e4d3"
      },
      "source": [
        "# plot using PCA using the best cluster\n",
        "best_cluster_model = cluster.KMeans(n_clusters=3)\n",
        "best_cluster_array = best_cluster_model.fit(final_feature_array)\n",
        "best_cluster_label = best_cluster_model.labels_\n",
        "pca_feature_df = pd.DataFrame(pca_feature_array,columns=pca_column)\n",
        "pca_feature_df['cluster'] = best_cluster_label\n",
        "pca_feature_df.plot.scatter(x='pca column 1',y='pca column 2',c='cluster',colormap='viridis')"
      ],
      "execution_count": null,
      "outputs": [
        {
          "output_type": "execute_result",
          "data": {
            "text/plain": [
              "<matplotlib.axes._subplots.AxesSubplot at 0x7f7090db1350>"
            ]
          },
          "metadata": {
            "tags": []
          },
          "execution_count": 60
        },
        {
          "output_type": "display_data",
          "data": {
            "image/png": "[encoded data removed]",
            "text/plain": [
              "<Figure size 432x288 with 2 Axes>"
            ]
          },
          "metadata": {
            "tags": [],
            "needs_background": "light"
          }
        }
      ]
    },
    {
      "cell_type": "markdown",
      "metadata": {
        "id": "V_Y7zjvf8ncw"
      },
      "source": [
        "## Unsupervised Task\n",
        "Do clustering using student_grade_prediction data that are explained here: https://www.kaggle.com/dipam7/student-grade-prediction to see if there is any student segment"
      ]
    },
    {
      "cell_type": "markdown",
      "metadata": {
        "id": "pMQRDPvsbyAb"
      },
      "source": [
        "# Assignment Unsupervised\n",
        "Do the PCA then clustering then classification for each cluster using the data here: https://www.kaggle.com/adityakadiwal/water-potability"
      ]
    },
    {
      "cell_type": "code",
      "metadata": {
        "id": "7xYJuXXVcCSL"
      },
      "source": [
        "### data"
      ],
      "execution_count": null,
      "outputs": []
    }
  ]
}